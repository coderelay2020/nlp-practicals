{
  "nbformat": 4,
  "nbformat_minor": 0,
  "metadata": {
    "kernelspec": {
      "display_name": "Python 3",
      "language": "python",
      "name": "python3"
    },
    "language_info": {
      "codemirror_mode": {
        "name": "ipython",
        "version": 3
      },
      "file_extension": ".py",
      "mimetype": "text/x-python",
      "name": "python",
      "nbconvert_exporter": "python",
      "pygments_lexer": "ipython3",
      "version": "3.7.3"
    },
    "colab": {
      "name": "Practical4(Parsing using PCFG).ipynb",
      "provenance": []
    }
  },
  "cells": [
    {
      "cell_type": "code",
      "metadata": {
        "id": "FN2f7VdDjbxY",
        "outputId": "e171baa9-7f8e-4236-dae1-f8a7f9cc6f18",
        "colab": {
          "base_uri": "https://localhost:8080/"
        }
      },
      "source": [
        "import nltk\n",
        "nltk.download('treebank')\n",
        "print(nltk.corpus.treebank.parsed_sents('wsj_0001.mrg')[0])"
      ],
      "execution_count": 2,
      "outputs": [
        {
          "output_type": "stream",
          "text": [
            "[nltk_data] Downloading package treebank to /root/nltk_data...\n",
            "[nltk_data]   Unzipping corpora/treebank.zip.\n",
            "(S\n",
            "  (NP-SBJ\n",
            "    (NP (NNP Pierre) (NNP Vinken))\n",
            "    (, ,)\n",
            "    (ADJP (NP (CD 61) (NNS years)) (JJ old))\n",
            "    (, ,))\n",
            "  (VP\n",
            "    (MD will)\n",
            "    (VP\n",
            "      (VB join)\n",
            "      (NP (DT the) (NN board))\n",
            "      (PP-CLR (IN as) (NP (DT a) (JJ nonexecutive) (NN director)))\n",
            "      (NP-TMP (NNP Nov.) (CD 29))))\n",
            "  (. .))\n"
          ],
          "name": "stdout"
        }
      ]
    },
    {
      "cell_type": "code",
      "metadata": {
        "id": "muzc-5wkjbxh"
      },
      "source": [
        "from nltk import Tree"
      ],
      "execution_count": 4,
      "outputs": []
    },
    {
      "cell_type": "code",
      "metadata": {
        "id": "pgnjL3rpjbxi",
        "outputId": "903dd9c5-2272-4467-e59a-7a235aaf7a0e",
        "colab": {
          "base_uri": "https://localhost:8080/"
        }
      },
      "source": [
        "# Parse a tree from a string with parentheses.\n",
        "s = '(S (NP (DT the) (NN cat)) (VP (VBD ate) (NP (DT a) (NN cookie))))'\n",
        "t = Tree.fromstring(s)\n",
        "print(\"Convert bracketed string into tree:\")\n",
        "print(t)\n",
        "print(t.__repr__())"
      ],
      "execution_count": 5,
      "outputs": [
        {
          "output_type": "stream",
          "text": [
            "Convert bracketed string into tree:\n",
            "(S (NP (DT the) (NN cat)) (VP (VBD ate) (NP (DT a) (NN cookie))))\n",
            "Tree('S', [Tree('NP', [Tree('DT', ['the']), Tree('NN', ['cat'])]), Tree('VP', [Tree('VBD', ['ate']), Tree('NP', [Tree('DT', ['a']), Tree('NN', ['cookie'])])])])\n"
          ],
          "name": "stdout"
        }
      ]
    },
    {
      "cell_type": "code",
      "metadata": {
        "id": "AitOnuA3jbxk",
        "outputId": "04ab99a8-330d-4945-eacc-9d0783e38bf4",
        "colab": {
          "base_uri": "https://localhost:8080/"
        }
      },
      "source": [
        "print(\"Display tree properties:\")\n",
        "print(t.label())   # tree's constituent type\n",
        "print(t[0]) # tree's first child\n",
        "print(t[1]) # tree's second child"
      ],
      "execution_count": 6,
      "outputs": [
        {
          "output_type": "stream",
          "text": [
            "Display tree properties:\n",
            "S\n",
            "(NP (DT the) (NN cat))\n",
            "(VP (VBD ate) (NP (DT a) (NN cookie)))\n"
          ],
          "name": "stdout"
        }
      ]
    },
    {
      "cell_type": "code",
      "metadata": {
        "id": "o52QCcCJjbxl",
        "outputId": "ba97261a-f881-455d-893d-ed4a32814768",
        "colab": {
          "base_uri": "https://localhost:8080/"
        }
      },
      "source": [
        "print(t.height())"
      ],
      "execution_count": 7,
      "outputs": [
        {
          "output_type": "stream",
          "text": [
            "5\n"
          ],
          "name": "stdout"
        }
      ]
    },
    {
      "cell_type": "code",
      "metadata": {
        "id": "ZJErdu_Sjbxn",
        "outputId": "90161c4c-9e68-42ce-c763-da0aaae72015",
        "colab": {
          "base_uri": "https://localhost:8080/"
        }
      },
      "source": [
        "print(t.leaves())"
      ],
      "execution_count": 8,
      "outputs": [
        {
          "output_type": "stream",
          "text": [
            "['the', 'cat', 'ate', 'a', 'cookie']\n"
          ],
          "name": "stdout"
        }
      ]
    },
    {
      "cell_type": "code",
      "metadata": {
        "id": "65hF1fWljbxp",
        "outputId": "b0cc13bd-5ce0-4c3e-bf41-af6f6957ec79",
        "colab": {
          "base_uri": "https://localhost:8080/"
        }
      },
      "source": [
        "print(t[1])\n",
        "print(t[1,1])\n",
        "print(t[1,1,0])"
      ],
      "execution_count": 9,
      "outputs": [
        {
          "output_type": "stream",
          "text": [
            "(VP (VBD ate) (NP (DT a) (NN cookie)))\n",
            "(NP (DT a) (NN cookie))\n",
            "(DT a)\n"
          ],
          "name": "stdout"
        }
      ]
    },
    {
      "cell_type": "code",
      "metadata": {
        "id": "sezGJIzxjbxp",
        "outputId": "b44c26a8-0fe1-46d9-b490-271a3f4fcc35",
        "colab": {
          "base_uri": "https://localhost:8080/"
        }
      },
      "source": [
        "# Demonstrate tree modification.\n",
        "the_cat = t[0]\n",
        "the_cat.insert(1, Tree.fromstring('(JJ big)'))\n",
        "print(\"Tree modification:\")\n",
        "print(t)\n",
        "t[1,1,1] = Tree.fromstring('(NN cake)')\n",
        "print(t)"
      ],
      "execution_count": 10,
      "outputs": [
        {
          "output_type": "stream",
          "text": [
            "Tree modification:\n",
            "(S\n",
            "  (NP (DT the) (JJ big) (NN cat))\n",
            "  (VP (VBD ate) (NP (DT a) (NN cookie))))\n",
            "(S\n",
            "  (NP (DT the) (JJ big) (NN cat))\n",
            "  (VP (VBD ate) (NP (DT a) (NN cake))))\n"
          ],
          "name": "stdout"
        }
      ]
    },
    {
      "cell_type": "code",
      "metadata": {
        "id": "mdtPVIAwjbxq",
        "outputId": "eee5d4b4-820a-4067-dbcc-7c16142a910d",
        "colab": {
          "base_uri": "https://localhost:8080/"
        }
      },
      "source": [
        "# Tree transforms\n",
        "print(\"Collapse unary:\")\n",
        "t.collapse_unary()\n",
        "print(t)\n",
        "print(\"Chomsky normal form:\")\n",
        "t.chomsky_normal_form()\n",
        "print(t)"
      ],
      "execution_count": 11,
      "outputs": [
        {
          "output_type": "stream",
          "text": [
            "Collapse unary:\n",
            "(S\n",
            "  (NP (DT the) (JJ big) (NN cat))\n",
            "  (VP (VBD ate) (NP (DT a) (NN cake))))\n",
            "Chomsky normal form:\n",
            "(S\n",
            "  (NP (DT the) (NP|<JJ-NN> (JJ big) (NN cat)))\n",
            "  (VP (VBD ate) (NP (DT a) (NN cake))))\n"
          ],
          "name": "stdout"
        }
      ]
    },
    {
      "cell_type": "code",
      "metadata": {
        "id": "iWq-9ogujbxs",
        "outputId": "d0112173-5870-4bf4-dd82-693932aa668c",
        "colab": {
          "base_uri": "https://localhost:8080/"
        }
      },
      "source": [
        "# Demonstrate probabilistic trees.\n",
        "pt = nltk.tree.ProbabilisticTree('x', ['y', 'z'], prob=0.5)\n",
        "print(\"Probabilistic Tree:\")\n",
        "print(pt)"
      ],
      "execution_count": 12,
      "outputs": [
        {
          "output_type": "stream",
          "text": [
            "Probabilistic Tree:\n",
            "(x y z) (p=0.5)\n"
          ],
          "name": "stdout"
        }
      ]
    },
    {
      "cell_type": "code",
      "metadata": {
        "id": "663mPgkvjbxv",
        "outputId": "854bb53e-d003-46c0-9212-436713a7f66e",
        "colab": {
          "base_uri": "https://localhost:8080/"
        }
      },
      "source": [
        "# Demonstrate LaTeX output\n",
        "print(\"LaTeX output:\")\n",
        "print(t.pformat_latex_qtree())"
      ],
      "execution_count": 13,
      "outputs": [
        {
          "output_type": "stream",
          "text": [
            "LaTeX output:\n",
            "\\Tree [.S\n",
            "        [.NP [.DT the ] [.NP|<JJ-NN> [.JJ big ] [.NN cat ] ] ]\n",
            "        [.VP [.VBD ate ] [.NP [.DT a ] [.NN cake ] ] ] ]\n"
          ],
          "name": "stdout"
        }
      ]
    },
    {
      "cell_type": "code",
      "metadata": {
        "id": "OkRgHgAqjbxw",
        "outputId": "46a0efbb-00af-4dcf-c67f-78202d18d2d6",
        "colab": {
          "base_uri": "https://localhost:8080/"
        }
      },
      "source": [
        "print(t)"
      ],
      "execution_count": 14,
      "outputs": [
        {
          "output_type": "stream",
          "text": [
            "(S\n",
            "  (NP (DT the) (NP|<JJ-NN> (JJ big) (NN cat)))\n",
            "  (VP (VBD ate) (NP (DT a) (NN cake))))\n"
          ],
          "name": "stdout"
        }
      ]
    },
    {
      "cell_type": "code",
      "metadata": {
        "id": "K1TVUGGGjbxx",
        "outputId": "e7f8bd10-2ff5-4d26-c10e-69794ef6e2de",
        "colab": {
          "base_uri": "https://localhost:8080/"
        }
      },
      "source": [
        "# Demonstrate Productions\n",
        "print(\"Production output:\")\n",
        "print(t.productions())"
      ],
      "execution_count": 15,
      "outputs": [
        {
          "output_type": "stream",
          "text": [
            "Production output:\n",
            "[S -> NP VP, NP -> DT NP|<JJ-NN>, DT -> 'the', NP|<JJ-NN> -> JJ NN, JJ -> 'big', NN -> 'cat', VP -> VBD NP, VBD -> 'ate', NP -> DT NN, DT -> 'a', NN -> 'cake']\n"
          ],
          "name": "stdout"
        }
      ]
    },
    {
      "cell_type": "code",
      "metadata": {
        "id": "2vZlPCzrjbxy",
        "outputId": "e65cad4e-a592-4461-978b-f792d954c73a",
        "colab": {
          "base_uri": "https://localhost:8080/"
        }
      },
      "source": [
        "# Demonstrate tree nodes containing objects other than strings\n",
        "t.set_label(('test', 3))\n",
        "print(t)"
      ],
      "execution_count": 16,
      "outputs": [
        {
          "output_type": "stream",
          "text": [
            "(('test', 3)\n",
            "  (NP (DT the) (NP|<JJ-NN> (JJ big) (NN cat)))\n",
            "  (VP (VBD ate) (NP (DT a) (NN cake))))\n"
          ],
          "name": "stdout"
        }
      ]
    },
    {
      "cell_type": "code",
      "metadata": {
        "id": "E5B_QcYtjbxy"
      },
      "source": [
        "from nltk import nonterminals, Nonterminal, Production"
      ],
      "execution_count": 17,
      "outputs": []
    },
    {
      "cell_type": "code",
      "metadata": {
        "id": "0is1f_6Ajbxy",
        "outputId": "581a3305-293a-44b1-ec45-51bbf84019d2",
        "colab": {
          "base_uri": "https://localhost:8080/"
        }
      },
      "source": [
        "# Create some nonterminals\n",
        "S, NP, VP, PP = nonterminals('S, NP, VP, PP')\n",
        "N, V, P, Det = nonterminals('N, V, P, Det')\n",
        "VP_slash_NP = Nonterminal('VP/NP')\n",
        "\n",
        "print('Some nonterminals:', [S, NP, VP, PP, N, V, P, Det, VP_slash_NP])\n",
        "print('S.symbol() =>', S.symbol())"
      ],
      "execution_count": 18,
      "outputs": [
        {
          "output_type": "stream",
          "text": [
            "Some nonterminals: [S, NP, VP, PP, N, V, P, Det, VP/NP]\n",
            "S.symbol() => S\n"
          ],
          "name": "stdout"
        }
      ]
    },
    {
      "cell_type": "code",
      "metadata": {
        "id": "DnLzbE45jbxz",
        "outputId": "29fd5ed1-2a9b-426c-bf5b-2493d3e2f126",
        "colab": {
          "base_uri": "https://localhost:8080/"
        }
      },
      "source": [
        "print(Production(S, [NP]))"
      ],
      "execution_count": 19,
      "outputs": [
        {
          "output_type": "stream",
          "text": [
            "S -> NP\n"
          ],
          "name": "stdout"
        }
      ]
    },
    {
      "cell_type": "code",
      "metadata": {
        "id": "o2toDcb0jbx0"
      },
      "source": [
        "# Create some Grammar Productions\n",
        "from nltk import CFG"
      ],
      "execution_count": 20,
      "outputs": []
    },
    {
      "cell_type": "code",
      "metadata": {
        "id": "7px0MuOFjbx1",
        "outputId": "241fd392-a6b8-4ad4-968b-b850c4afb1ba",
        "colab": {
          "base_uri": "https://localhost:8080/"
        }
      },
      "source": [
        "grammar = CFG.fromstring(\"\"\"\n",
        "  S -> NP VP\n",
        "  PP -> P NP\n",
        "  NP -> Det N | NP PP\n",
        "  VP -> V NP | VP PP\n",
        "  Det -> 'a' | 'the'\n",
        "  N -> 'dog' | 'cat'\n",
        "  V -> 'chased' | 'sat'\n",
        "  P -> 'on' | 'in'\n",
        "\"\"\")\n",
        "\n",
        "print('A Grammar:', grammar)\n",
        "print('grammar.start()   =>', grammar.start())\n",
        "print('grammar.productions() =>')\n",
        "# Use string.replace(...) is to line-wrap the output.\n",
        "print(grammar.productions())"
      ],
      "execution_count": 21,
      "outputs": [
        {
          "output_type": "stream",
          "text": [
            "A Grammar: Grammar with 14 productions (start state = S)\n",
            "    S -> NP VP\n",
            "    PP -> P NP\n",
            "    NP -> Det N\n",
            "    NP -> NP PP\n",
            "    VP -> V NP\n",
            "    VP -> VP PP\n",
            "    Det -> 'a'\n",
            "    Det -> 'the'\n",
            "    N -> 'dog'\n",
            "    N -> 'cat'\n",
            "    V -> 'chased'\n",
            "    V -> 'sat'\n",
            "    P -> 'on'\n",
            "    P -> 'in'\n",
            "grammar.start()   => S\n",
            "grammar.productions() =>\n",
            "[S -> NP VP, PP -> P NP, NP -> Det N, NP -> NP PP, VP -> V NP, VP -> VP PP, Det -> 'a', Det -> 'the', N -> 'dog', N -> 'cat', V -> 'chased', V -> 'sat', P -> 'on', P -> 'in']\n"
          ],
          "name": "stdout"
        }
      ]
    },
    {
      "cell_type": "code",
      "metadata": {
        "id": "POtA3nwajbx2",
        "outputId": "94b3600c-23d1-4a5a-a307-763a6689aa88",
        "colab": {
          "base_uri": "https://localhost:8080/"
        }
      },
      "source": [
        "print('Coverage of input words by a grammar:')\n",
        "try:\n",
        "    grammar.check_coverage(['a','dog'])\n",
        "    print(\"All words covered\")\n",
        "except:\n",
        "    print(\"Strange\")\n",
        "try:\n",
        "    print(grammar.check_coverage(['a','toy']))\n",
        "except:\n",
        "    print(\"Some words not covered\")"
      ],
      "execution_count": 22,
      "outputs": [
        {
          "output_type": "stream",
          "text": [
            "Coverage of input words by a grammar:\n",
            "All words covered\n",
            "Some words not covered\n"
          ],
          "name": "stdout"
        }
      ]
    },
    {
      "cell_type": "code",
      "metadata": {
        "id": "wTBjMSCkjbx3"
      },
      "source": [
        "from nltk import PCFG"
      ],
      "execution_count": 23,
      "outputs": []
    },
    {
      "cell_type": "code",
      "metadata": {
        "id": "dNfB0tTbjbx4"
      },
      "source": [
        "toy_pcfg1 = PCFG.fromstring(\"\"\"\n",
        "    S -> NP VP [1.0]\n",
        "    NP -> Det N [0.5] | NP PP [0.25] | 'John' [0.1] | 'I' [0.15]\n",
        "    Det -> 'the' [0.8] | 'my' [0.2]\n",
        "    N -> 'man' [0.5] | 'telescope' [0.5]\n",
        "    VP -> VP PP [0.1] | V NP [0.7] | V [0.2]\n",
        "    V -> 'ate' [0.35] | 'saw' [0.65]\n",
        "    PP -> P NP [1.0]\n",
        "    P -> 'with' [0.61] | 'under' [0.39]\n",
        "\"\"\")"
      ],
      "execution_count": 24,
      "outputs": []
    },
    {
      "cell_type": "code",
      "metadata": {
        "id": "2QlHRRabjbx4"
      },
      "source": [
        "from nltk.corpus import treebank\n",
        "from nltk import treetransforms\n",
        "from nltk import induce_pcfg\n",
        "from nltk.parse import pchart"
      ],
      "execution_count": 25,
      "outputs": []
    },
    {
      "cell_type": "code",
      "metadata": {
        "id": "czMgf8jdjbx4",
        "outputId": "08bb4e23-6354-4382-cf03-3a0ba3ce8065",
        "colab": {
          "base_uri": "https://localhost:8080/"
        }
      },
      "source": [
        "pcfg_prods = toy_pcfg1.productions()\n",
        "\n",
        "pcfg_prod = pcfg_prods[2]\n",
        "print('A PCFG production:', pcfg_prod)\n",
        "print('pcfg_prod.lhs()  =>', pcfg_prod.lhs())\n",
        "print('pcfg_prod.rhs()  =>', pcfg_prod.rhs())\n",
        "print('pcfg_prod.prob() =>', pcfg_prod.prob())"
      ],
      "execution_count": 26,
      "outputs": [
        {
          "output_type": "stream",
          "text": [
            "A PCFG production: NP -> NP PP [0.25]\n",
            "pcfg_prod.lhs()  => NP\n",
            "pcfg_prod.rhs()  => (NP, PP)\n",
            "pcfg_prod.prob() => 0.25\n"
          ],
          "name": "stdout"
        }
      ]
    },
    {
      "cell_type": "code",
      "metadata": {
        "id": "rvs3Ps9Njbx5",
        "outputId": "75b08be8-3e8c-4aa8-b116-31ef852778d2",
        "colab": {
          "base_uri": "https://localhost:8080/"
        }
      },
      "source": [
        "\n",
        "# extract productions from three trees and induce the PCFG\n",
        "print(\"Induce PCFG grammar from treebank data:\")\n",
        "\n",
        "productions = []\n",
        "for item in treebank.fileids()[:2]:\n",
        "    for tree in treebank.parsed_sents(item):\n",
        "        # perform optional tree transformations, e.g.:\n",
        "        tree.collapse_unary(collapsePOS = False)# Remove branches A-B-C into A-B+C\n",
        "        tree.chomsky_normal_form(horzMarkov = 2)# Remove A->(B,C,D) into A->B,C+D->D\n",
        "        productions += tree.productions()"
      ],
      "execution_count": 27,
      "outputs": [
        {
          "output_type": "stream",
          "text": [
            "Induce PCFG grammar from treebank data:\n"
          ],
          "name": "stdout"
        }
      ]
    },
    {
      "cell_type": "code",
      "metadata": {
        "id": "pylemsJKjbx6",
        "outputId": "76d16161-344b-4aeb-cc6c-506246de3714",
        "colab": {
          "base_uri": "https://localhost:8080/"
        }
      },
      "source": [
        "from nltk import Nonterminal\n",
        "S = Nonterminal('S')\n",
        "grammar = induce_pcfg(S, productions)\n",
        "print(grammar)"
      ],
      "execution_count": 28,
      "outputs": [
        {
          "output_type": "stream",
          "text": [
            "Grammar with 86 productions (start state = S)\n",
            "    S -> NP-SBJ S|<VP-.> [0.5]\n",
            "    NP-SBJ -> NP NP-SBJ|<,-ADJP> [0.333333]\n",
            "    NP -> NNP NNP [0.2]\n",
            "    NNP -> 'Pierre' [0.0714286]\n",
            "    NNP -> 'Vinken' [0.142857]\n",
            "    NP-SBJ|<,-ADJP> -> , NP-SBJ|<ADJP-,> [1.0]\n",
            "    , -> ',' [1.0]\n",
            "    NP-SBJ|<ADJP-,> -> ADJP , [1.0]\n",
            "    ADJP -> NP JJ [1.0]\n",
            "    NP -> CD NNS [0.133333]\n",
            "    CD -> '61' [0.333333]\n",
            "    NNS -> 'years' [1.0]\n",
            "    JJ -> 'old' [0.285714]\n",
            "    S|<VP-.> -> VP . [1.0]\n",
            "    VP -> MD VP [0.2]\n",
            "    MD -> 'will' [1.0]\n",
            "    VP -> VB VP|<NP-PP-CLR> [0.2]\n",
            "    VB -> 'join' [1.0]\n",
            "    VP|<NP-PP-CLR> -> NP VP|<PP-CLR-NP-TMP> [1.0]\n",
            "    NP -> DT NN [0.0666667]\n",
            "    DT -> 'the' [0.4]\n",
            "    NN -> 'board' [0.142857]\n",
            "    VP|<PP-CLR-NP-TMP> -> PP-CLR NP-TMP [1.0]\n",
            "    PP-CLR -> IN NP [1.0]\n",
            "    IN -> 'as' [0.25]\n",
            "    NP -> DT NP|<JJ-NN> [0.133333]\n",
            "    DT -> 'a' [0.4]\n",
            "    NP|<JJ-NN> -> JJ NN [1.0]\n",
            "    JJ -> 'nonexecutive' [0.285714]\n",
            "    NN -> 'director' [0.285714]\n",
            "    NP-TMP -> NNP CD [1.0]\n",
            "    NNP -> 'Nov.' [0.0714286]\n",
            "    CD -> '29' [0.333333]\n",
            "    . -> '.' [1.0]\n",
            "    NP-SBJ -> NNP NNP [0.333333]\n",
            "    NNP -> 'Mr.' [0.0714286]\n",
            "    VP -> VBZ NP-PRD [0.2]\n",
            "    VBZ -> 'is' [1.0]\n",
            "    NP-PRD -> NP PP [1.0]\n",
            "    NP -> NN [0.0666667]\n",
            "    NN -> 'chairman' [0.285714]\n",
            "    PP -> IN NP [1.0]\n",
            "    IN -> 'of' [0.75]\n",
            "    NP -> NP NP|<,-NP> [0.0666667]\n",
            "    NNP -> 'Elsevier' [0.0714286]\n",
            "    NNP -> 'N.V.' [0.0714286]\n",
            "    NP|<,-NP> -> , NP [1.0]\n",
            "    NP -> DT NP|<NNP-VBG> [0.0666667]\n",
            "    NP|<NNP-VBG> -> NNP NP|<VBG-NN> [1.0]\n",
            "    NNP -> 'Dutch' [0.0714286]\n",
            "    NP|<VBG-NN> -> VBG NN [1.0]\n",
            "    VBG -> 'publishing' [1.0]\n",
            "    NN -> 'group' [0.142857]\n",
            "    S -> NP-SBJ-1 S|<VP-.> [0.25]\n",
            "    NP-SBJ-1 -> NP NP-SBJ-1|<,-UCP> [1.0]\n",
            "    NNP -> 'Rudolph' [0.0714286]\n",
            "    NNP -> 'Agnew' [0.0714286]\n",
            "    NP-SBJ-1|<,-UCP> -> , NP-SBJ-1|<UCP-,> [1.0]\n",
            "    NP-SBJ-1|<UCP-,> -> UCP , [1.0]\n",
            "    UCP -> ADJP UCP|<CC-NP> [1.0]\n",
            "    CD -> '55' [0.333333]\n",
            "    UCP|<CC-NP> -> CC NP [1.0]\n",
            "    CC -> 'and' [1.0]\n",
            "    NP -> NP PP [0.0666667]\n",
            "    NP -> JJ NN [0.0666667]\n",
            "    JJ -> 'former' [0.142857]\n",
            "    NP -> NNP NP|<NNP-NNP> [0.0666667]\n",
            "    NNP -> 'Consolidated' [0.0714286]\n",
            "    NP|<NNP-NNP> -> NNP NP|<NNP-NNP> [0.5]\n",
            "    NNP -> 'Gold' [0.0714286]\n",
            "    NP|<NNP-NNP> -> NNP NNP [0.5]\n",
            "    NNP -> 'Fields' [0.0714286]\n",
            "    NNP -> 'PLC' [0.0714286]\n",
            "    VP -> VBD VP [0.2]\n",
            "    VBD -> 'was' [1.0]\n",
            "    VP -> VBN S [0.2]\n",
            "    VBN -> 'named' [1.0]\n",
            "    S -> NP-SBJ NP-PRD [0.25]\n",
            "    NP-SBJ -> -NONE- [0.333333]\n",
            "    -NONE- -> '*-1' [1.0]\n",
            "    NP -> DT NP|<JJ-JJ> [0.0666667]\n",
            "    DT -> 'this' [0.2]\n",
            "    NP|<JJ-JJ> -> JJ NP|<JJ-NN> [1.0]\n",
            "    JJ -> 'British' [0.142857]\n",
            "    JJ -> 'industrial' [0.142857]\n",
            "    NN -> 'conglomerate' [0.142857]\n"
          ],
          "name": "stdout"
        }
      ]
    },
    {
      "cell_type": "code",
      "metadata": {
        "id": "C3yUJyfgjbx7",
        "outputId": "ee9093b5-3b6e-47f7-fe10-fb43910b369f",
        "colab": {
          "base_uri": "https://localhost:8080/"
        }
      },
      "source": [
        "print(\"Parse sentence using induced grammar:\")\n",
        "\n",
        "parser = pchart.InsideChartParser(grammar)\n",
        "parser.trace(3)\n",
        "\n",
        "sent = treebank.parsed_sents('wsj_0001.mrg')[0].leaves()\n",
        "print(sent)\n",
        "\n",
        "for parse in parser.parse(sent):\n",
        "    print(parse)"
      ],
      "execution_count": 29,
      "outputs": [
        {
          "output_type": "stream",
          "text": [
            "Parse sentence using induced grammar:\n",
            "['Pierre', 'Vinken', ',', '61', 'years', 'old', ',', 'will', 'join', 'the', 'board', 'as', 'a', 'nonexecutive', 'director', 'Nov.', '29', '.']\n",
            "  |[-] . . . . . . . . . . . . . . . . .| [0:1] 'Pierre' [1.0]\n",
            "  |. [-] . . . . . . . . . . . . . . . .| [1:2] 'Vinken' [1.0]\n",
            "  |. . [-] . . . . . . . . . . . . . . .| [2:3] ','  [1.0]\n",
            "  |. . . [-] . . . . . . . . . . . . . .| [3:4] '61' [1.0]\n",
            "  |. . . . [-] . . . . . . . . . . . . .| [4:5] 'years' [1.0]\n",
            "  |. . . . . [-] . . . . . . . . . . . .| [5:6] 'old' [1.0]\n",
            "  |. . . . . . [-] . . . . . . . . . . .| [6:7] ','  [1.0]\n",
            "  |. . . . . . . [-] . . . . . . . . . .| [7:8] 'will' [1.0]\n",
            "  |. . . . . . . . [-] . . . . . . . . .| [8:9] 'join' [1.0]\n",
            "  |. . . . . . . . . [-] . . . . . . . .| [9:10] 'the' [1.0]\n",
            "  |. . . . . . . . . . [-] . . . . . . .| [10:11] 'board' [1.0]\n",
            "  |. . . . . . . . . . . [-] . . . . . .| [11:12] 'as' [1.0]\n",
            "  |. . . . . . . . . . . . [-] . . . . .| [12:13] 'a' [1.0]\n",
            "  |. . . . . . . . . . . . . [-] . . . .| [13:14] 'nonexecutive' [1.0]\n",
            "  |. . . . . . . . . . . . . . [-] . . .| [14:15] 'director' [1.0]\n",
            "  |. . . . . . . . . . . . . . . [-] . .| [15:16] 'Nov.' [1.0]\n",
            "  |. . . . . . . . . . . . . . . . [-] .| [16:17] '29' [1.0]\n",
            "  |. . . . . . . . . . . . . . . . . [-]| [17:18] '.' [1.0]\n",
            "  |. . . . . . . . . . . . . . . . . [-]| [17:18] '.' [1.0]\n",
            "  |. . . . . . . . . . . . . . . . . [-]| [17:18] .  -> '.' * [1.0]\n",
            "  |. . . . . . . . . . . . . . . . . > .| [17:17] .  -> * '.' [1.0]\n",
            "  |. . . . . . . . . . . . . . . . [-] .| [16:17] '29' [1.0]\n",
            "  |. . . . . . . . . . . . . . . [-] . .| [15:16] 'Nov.' [1.0]\n",
            "  |. . . . . . . . . . . . . . [-] . . .| [14:15] 'director' [1.0]\n",
            "  |. . . . . . . . . . . . . [-] . . . .| [13:14] 'nonexecutive' [1.0]\n",
            "  |. . . . . . . . . . . . [-] . . . . .| [12:13] 'a' [1.0]\n",
            "  |. . . . . . . . . . . [-] . . . . . .| [11:12] 'as' [1.0]\n",
            "  |. . . . . . . . . . [-] . . . . . . .| [10:11] 'board' [1.0]\n",
            "  |. . . . . . . . . [-] . . . . . . . .| [9:10] 'the' [1.0]\n",
            "  |. . . . . . . . [-] . . . . . . . . .| [8:9] 'join' [1.0]\n",
            "  |. . . . . . . . [-] . . . . . . . . .| [8:9] VB -> 'join' * [1.0]\n",
            "  |. . . . . . . . > . . . . . . . . . .| [8:8] VB -> * 'join' [1.0]\n",
            "  |. . . . . . . [-] . . . . . . . . . .| [7:8] 'will' [1.0]\n",
            "  |. . . . . . . [-] . . . . . . . . . .| [7:8] MD -> 'will' * [1.0]\n",
            "  |. . . . . . . > . . . . . . . . . . .| [7:7] MD -> * 'will' [1.0]\n",
            "  |. . . . . . [-] . . . . . . . . . . .| [6:7] ','  [1.0]\n",
            "  |. . . . . . [-] . . . . . . . . . . .| [6:7] ,  -> ',' * [1.0]\n",
            "  |. . . . . . [-> . . . . . . . . . . .| [6:7] NP-SBJ-1|<,-UCP> -> , * NP-SBJ-1|<UCP-,> [1.0]\n",
            "  |. . . . . . [-> . . . . . . . . . . .| [6:7] NP|<,-NP> -> , * NP [1.0]\n",
            "  |. . . . . . [-> . . . . . . . . . . .| [6:7] NP-SBJ|<,-ADJP> -> , * NP-SBJ|<ADJP-,> [1.0]\n",
            "  |. . . . . . > . . . . . . . . . . . .| [6:6] NP-SBJ-1|<,-UCP> -> * , NP-SBJ-1|<UCP-,> [1.0]\n",
            "  |. . . . . . > . . . . . . . . . . . .| [6:6] NP|<,-NP> -> * , NP [1.0]\n",
            "  |. . . . . . > . . . . . . . . . . . .| [6:6] NP-SBJ|<,-ADJP> -> * , NP-SBJ|<ADJP-,> [1.0]\n",
            "  |. . . . . . > . . . . . . . . . . . .| [6:6] ,  -> * ',' [1.0]\n",
            "  |. . . . . [-] . . . . . . . . . . . .| [5:6] 'old' [1.0]\n",
            "  |. . . . [-] . . . . . . . . . . . . .| [4:5] 'years' [1.0]\n",
            "  |. . . . [-] . . . . . . . . . . . . .| [4:5] NNS -> 'years' * [1.0]\n",
            "  |. . . . > . . . . . . . . . . . . . .| [4:4] NNS -> * 'years' [1.0]\n",
            "  |. . . [-] . . . . . . . . . . . . . .| [3:4] '61' [1.0]\n",
            "  |. . [-] . . . . . . . . . . . . . . .| [2:3] ','  [1.0]\n",
            "  |. . [-] . . . . . . . . . . . . . . .| [2:3] ,  -> ',' * [1.0]\n",
            "  |. . [-> . . . . . . . . . . . . . . .| [2:3] NP-SBJ-1|<,-UCP> -> , * NP-SBJ-1|<UCP-,> [1.0]\n",
            "  |. . [-> . . . . . . . . . . . . . . .| [2:3] NP|<,-NP> -> , * NP [1.0]\n",
            "  |. . [-> . . . . . . . . . . . . . . .| [2:3] NP-SBJ|<,-ADJP> -> , * NP-SBJ|<ADJP-,> [1.0]\n",
            "  |. . > . . . . . . . . . . . . . . . .| [2:2] NP-SBJ-1|<,-UCP> -> * , NP-SBJ-1|<UCP-,> [1.0]\n",
            "  |. . > . . . . . . . . . . . . . . . .| [2:2] NP|<,-NP> -> * , NP [1.0]\n",
            "  |. . > . . . . . . . . . . . . . . . .| [2:2] NP-SBJ|<,-ADJP> -> * , NP-SBJ|<ADJP-,> [1.0]\n",
            "  |. . > . . . . . . . . . . . . . . . .| [2:2] ,  -> * ',' [1.0]\n",
            "  |. [-] . . . . . . . . . . . . . . . .| [1:2] 'Vinken' [1.0]\n",
            "  |[-] . . . . . . . . . . . . . . . . .| [0:1] 'Pierre' [1.0]\n",
            "  |. . . . . . . . . [-] . . . . . . . .| [9:10] DT -> 'the' * [0.4]\n",
            "  |. . . . . . . . . > . . . . . . . . .| [9:9] DT -> * 'the' [0.4]\n",
            "  |. . . . . . . . . . . . [-] . . . . .| [12:13] DT -> 'a' * [0.4]\n",
            "  |. . . . . . . . . . . . > . . . . . .| [12:12] DT -> * 'a' [0.4]\n",
            "  |. . . [-] . . . . . . . . . . . . . .| [3:4] CD -> '61' * [0.3333333333333333]\n",
            "  |. . . > . . . . . . . . . . . . . . .| [3:3] CD -> * '61' [0.3333333333333333]\n",
            "  |. . . . . . . . . . . . . . . . [-] .| [16:17] CD -> '29' * [0.3333333333333333]\n",
            "  |. . . . . . . . . . . . . . . . > . .| [16:16] CD -> * '29' [0.3333333333333333]\n",
            "  |. . . . . [-] . . . . . . . . . . . .| [5:6] JJ -> 'old' * [0.2857142857142857]\n",
            "  |. . . . . > . . . . . . . . . . . . .| [5:5] NP|<JJ-JJ> -> * JJ NP|<JJ-NN> [1.0]\n",
            "  |. . . . . > . . . . . . . . . . . . .| [5:5] NP|<JJ-NN> -> * JJ NN [1.0]\n",
            "  |. . . . . [-> . . . . . . . . . . . .| [5:6] NP|<JJ-JJ> -> JJ * NP|<JJ-NN> [0.2857142857142857]\n",
            "  |. . . . . [-> . . . . . . . . . . . .| [5:6] NP|<JJ-NN> -> JJ * NN [0.2857142857142857]\n",
            "  |. . . . . > . . . . . . . . . . . . .| [5:5] JJ -> * 'old' [0.2857142857142857]\n",
            "  |. . . . . . . . . . . . . [-] . . . .| [13:14] JJ -> 'nonexecutive' * [0.2857142857142857]\n",
            "  |. . . . . . . . . . . . . > . . . . .| [13:13] NP|<JJ-JJ> -> * JJ NP|<JJ-NN> [1.0]\n",
            "  |. . . . . . . . . . . . . > . . . . .| [13:13] NP|<JJ-NN> -> * JJ NN [1.0]\n",
            "  |. . . . . . . . . . . . . [-> . . . .| [13:14] NP|<JJ-JJ> -> JJ * NP|<JJ-NN> [0.2857142857142857]\n",
            "  |. . . . . . . . . . . . . [-> . . . .| [13:14] NP|<JJ-NN> -> JJ * NN [0.2857142857142857]\n",
            "  |. . . . . . . . . . . . . > . . . . .| [13:13] JJ -> * 'nonexecutive' [0.2857142857142857]\n",
            "  |. . . . . . . . . . . . . . [-] . . .| [14:15] NN -> 'director' * [0.2857142857142857]\n",
            "  |. . . . . . . . . . . . . . > . . . .| [14:14] NN -> * 'director' [0.2857142857142857]\n",
            "  |. . . . . . . . . . . [-] . . . . . .| [11:12] IN -> 'as' * [0.25]\n",
            "  |. . . . . . . . . . . > . . . . . . .| [11:11] PP -> * IN NP [1.0]\n",
            "  |. . . . . . . . . . . > . . . . . . .| [11:11] PP-CLR -> * IN NP [1.0]\n",
            "  |. . . . . . . . . . . [-> . . . . . .| [11:12] PP -> IN * NP [0.25]\n",
            "  |. . . . . . . . . . . [-> . . . . . .| [11:12] PP-CLR -> IN * NP [0.25]\n",
            "  |. . . . . . . . . . . > . . . . . . .| [11:11] IN -> * 'as' [0.25]\n",
            "  |. . . . . . . [-> . . . . . . . . . .| [7:8] VP -> MD * VP [0.2]\n",
            "  |. . . . . . . > . . . . . . . . . . .| [7:7] VP -> * MD VP [0.2]\n",
            "  |. . . . . . . . [-> . . . . . . . . .| [8:9] VP -> VB * VP|<NP-PP-CLR> [0.2]\n",
            "  |. . . . . . . . > . . . . . . . . . .| [8:8] VP -> * VB VP|<NP-PP-CLR> [0.2]\n",
            "  |. [-] . . . . . . . . . . . . . . . .| [1:2] NNP -> 'Vinken' * [0.14285714285714285]\n",
            "  |. > . . . . . . . . . . . . . . . . .| [1:1] NP|<NNP-VBG> -> * NNP NP|<VBG-NN> [1.0]\n",
            "  |. > . . . . . . . . . . . . . . . . .| [1:1] NP-TMP -> * NNP CD [1.0]\n",
            "  |. > . . . . . . . . . . . . . . . . .| [1:1] NP|<NNP-NNP> -> * NNP NNP [0.5]\n",
            "  |. > . . . . . . . . . . . . . . . . .| [1:1] NP|<NNP-NNP> -> * NNP NP|<NNP-NNP> [0.5]\n",
            "  |. > . . . . . . . . . . . . . . . . .| [1:1] NP-SBJ -> * NNP NNP [0.3333333333333333]\n",
            "  |. > . . . . . . . . . . . . . . . . .| [1:1] NP -> * NNP NNP [0.2]\n",
            "  |. [-> . . . . . . . . . . . . . . . .| [1:2] NP|<NNP-VBG> -> NNP * NP|<VBG-NN> [0.14285714285714285]\n",
            "  |. [-> . . . . . . . . . . . . . . . .| [1:2] NP-TMP -> NNP * CD [0.14285714285714285]\n",
            "  |. > . . . . . . . . . . . . . . . . .| [1:1] NNP -> * 'Vinken' [0.14285714285714285]\n",
            "  |. . . . . . . . . . [-] . . . . . . .| [10:11] NN -> 'board' * [0.14285714285714285]\n",
            "  |. . . . . . . . . . > . . . . . . . .| [10:10] NN -> * 'board' [0.14285714285714285]\n",
            "  |. . . . . . . . . . . . . . . . > . .| [16:16] NP -> * CD NNS [0.13333333333333333]\n",
            "  |. . . > . . . . . . . . . . . . . . .| [3:3] NP -> * CD NNS [0.13333333333333333]\n",
            "  |. . . . . . . . . . . . > . . . . . .| [12:12] NP -> * DT NP|<JJ-NN> [0.13333333333333333]\n",
            "  |. . . . . . . . . > . . . . . . . . .| [9:9] NP -> * DT NP|<JJ-NN> [0.13333333333333333]\n",
            "  |. . . . . . . . . . . . . [---] . . .| [13:15] NP|<JJ-NN> -> JJ NN * [0.08163265306122448]\n",
            "  |. [-> . . . . . . . . . . . . . . . .| [1:2] NP|<NNP-NNP> -> NNP * NNP [0.07142857142857142]\n",
            "  |. [-> . . . . . . . . . . . . . . . .| [1:2] NP|<NNP-NNP> -> NNP * NP|<NNP-NNP> [0.07142857142857142]\n",
            "  |[-] . . . . . . . . . . . . . . . . .| [0:1] NNP -> 'Pierre' * [0.07142857142857142]\n",
            "  |> . . . . . . . . . . . . . . . . . .| [0:0] NP|<NNP-VBG> -> * NNP NP|<VBG-NN> [1.0]\n",
            "  |> . . . . . . . . . . . . . . . . . .| [0:0] NP-TMP -> * NNP CD [1.0]\n",
            "  |> . . . . . . . . . . . . . . . . . .| [0:0] NP|<NNP-NNP> -> * NNP NNP [0.5]\n",
            "  |> . . . . . . . . . . . . . . . . . .| [0:0] NP|<NNP-NNP> -> * NNP NP|<NNP-NNP> [0.5]\n",
            "  |> . . . . . . . . . . . . . . . . . .| [0:0] NP-SBJ -> * NNP NNP [0.3333333333333333]\n",
            "  |> . . . . . . . . . . . . . . . . . .| [0:0] NP -> * NNP NNP [0.2]\n",
            "  |[-> . . . . . . . . . . . . . . . . .| [0:1] NP|<NNP-VBG> -> NNP * NP|<VBG-NN> [0.07142857142857142]\n",
            "  |[-> . . . . . . . . . . . . . . . . .| [0:1] NP-TMP -> NNP * CD [0.07142857142857142]\n",
            "  |> . . . . . . . . . . . . . . . . . .| [0:0] NNP -> * 'Pierre' [0.07142857142857142]\n",
            "  |. . . . . . . . . . . . . . . [-] . .| [15:16] NNP -> 'Nov.' * [0.07142857142857142]\n",
            "  |. . . . . . . . . . . . . . . > . . .| [15:15] NP|<NNP-VBG> -> * NNP NP|<VBG-NN> [1.0]\n",
            "  |. . . . . . . . . . . . . . . > . . .| [15:15] NP-TMP -> * NNP CD [1.0]\n",
            "  |. . . . . . . . . . . . . . . > . . .| [15:15] NP|<NNP-NNP> -> * NNP NNP [0.5]\n",
            "  |. . . . . . . . . . . . . . . > . . .| [15:15] NP|<NNP-NNP> -> * NNP NP|<NNP-NNP> [0.5]\n",
            "  |. . . . . . . . . . . . . . . > . . .| [15:15] NP-SBJ -> * NNP NNP [0.3333333333333333]\n",
            "  |. . . . . . . . . . . . . . . > . . .| [15:15] NP -> * NNP NNP [0.2]\n",
            "  |. . . . . . . . . . . . . . . [-> . .| [15:16] NP|<NNP-VBG> -> NNP * NP|<VBG-NN> [0.07142857142857142]\n",
            "  |. . . . . . . . . . . . . . . [-> . .| [15:16] NP-TMP -> NNP * CD [0.07142857142857142]\n",
            "  |. . . . . . . . . . . . . . . > . . .| [15:15] NNP -> * 'Nov.' [0.07142857142857142]\n",
            "  |. . . . . . . . . . . . . . . > . . .| [15:15] NP -> * NNP NP|<NNP-NNP> [0.06666666666666667]\n",
            "  |> . . . . . . . . . . . . . . . . . .| [0:0] NP -> * NNP NP|<NNP-NNP> [0.06666666666666667]\n",
            "  |. . . . . . . . . . > . . . . . . . .| [10:10] NP -> * NN [0.06666666666666667]\n",
            "  |. > . . . . . . . . . . . . . . . . .| [1:1] NP -> * NNP NP|<NNP-NNP> [0.06666666666666667]\n",
            "  |. . . . . . . . . . . . . . > . . . .| [14:14] NP -> * NN [0.06666666666666667]\n",
            "  |. . . . . . . . . . . . . > . . . . .| [13:13] NP -> * JJ NN [0.06666666666666667]\n",
            "  |. . . . . > . . . . . . . . . . . . .| [5:5] NP -> * JJ NN [0.06666666666666667]\n",
            "  |. . . . . . . . . . . . > . . . . . .| [12:12] NP -> * DT NP|<JJ-JJ> [0.06666666666666667]\n",
            "  |. . . . . . . . . . . . > . . . . . .| [12:12] NP -> * DT NP|<NNP-VBG> [0.06666666666666667]\n",
            "  |. . . . . . . . . . . . > . . . . . .| [12:12] NP -> * DT NN [0.06666666666666667]\n",
            "  |. . . . . . . . . > . . . . . . . . .| [9:9] NP -> * DT NP|<JJ-JJ> [0.06666666666666667]\n",
            "  |. . . . . . . . . > . . . . . . . . .| [9:9] NP -> * DT NP|<NNP-VBG> [0.06666666666666667]\n",
            "  |. . . . . . . . . > . . . . . . . . .| [9:9] NP -> * DT NN [0.06666666666666667]\n",
            "  |. . . . . . . . . . . . [-> . . . . .| [12:13] NP -> DT * NP|<JJ-NN> [0.05333333333333334]\n",
            "  |. . . . . . . . . [-> . . . . . . . .| [9:10] NP -> DT * NP|<JJ-NN> [0.05333333333333334]\n",
            "  |. [-> . . . . . . . . . . . . . . . .| [1:2] NP-SBJ -> NNP * NNP [0.047619047619047616]\n",
            "  |. . . . . . . . . . . . . . . . [-> .| [16:17] NP -> CD * NNS [0.04444444444444444]\n",
            "  |. . . [-> . . . . . . . . . . . . . .| [3:4] NP -> CD * NNS [0.04444444444444444]\n",
            "  |. . . [---] . . . . . . . . . . . . .| [3:5] NP -> CD NNS * [0.04444444444444444]\n",
            "  |. . . > . . . . . . . . . . . . . . .| [3:3] NP-SBJ-1 -> * NP NP-SBJ-1|<,-UCP> [1.0]\n",
            "  |. . . > . . . . . . . . . . . . . . .| [3:3] NP-PRD -> * NP PP [1.0]\n",
            "  |. . . > . . . . . . . . . . . . . . .| [3:3] VP|<NP-PP-CLR> -> * NP VP|<PP-CLR-NP-TMP> [1.0]\n",
            "  |. . . > . . . . . . . . . . . . . . .| [3:3] ADJP -> * NP JJ [1.0]\n",
            "  |. . . > . . . . . . . . . . . . . . .| [3:3] NP-SBJ -> * NP NP-SBJ|<,-ADJP> [0.3333333333333333]\n",
            "  |. . . > . . . . . . . . . . . . . . .| [3:3] NP -> * NP PP [0.06666666666666667]\n",
            "  |. . . > . . . . . . . . . . . . . . .| [3:3] NP -> * NP NP|<,-NP> [0.06666666666666667]\n",
            "  |. . . [---> . . . . . . . . . . . . .| [3:5] NP-SBJ-1 -> NP * NP-SBJ-1|<,-UCP> [0.04444444444444444]\n",
            "  |. . . [---> . . . . . . . . . . . . .| [3:5] NP-PRD -> NP * PP [0.04444444444444444]\n",
            "  |. . . [---> . . . . . . . . . . . . .| [3:5] VP|<NP-PP-CLR> -> NP * VP|<PP-CLR-NP-TMP> [0.04444444444444444]\n",
            "  |. . . [---> . . . . . . . . . . . . .| [3:5] ADJP -> NP * JJ [0.04444444444444444]\n",
            "  |. . [-----] . . . . . . . . . . . . .| [2:5] NP|<,-NP> -> , NP * [0.04444444444444444]\n",
            "  |. . . . . . . . . . . . . . . [-> . .| [15:16] NP|<NNP-NNP> -> NNP * NNP [0.03571428571428571]\n",
            "  |. . . . . . . . . . . . . . . [-> . .| [15:16] NP|<NNP-NNP> -> NNP * NP|<NNP-NNP> [0.03571428571428571]\n",
            "  |[-> . . . . . . . . . . . . . . . . .| [0:1] NP|<NNP-NNP> -> NNP * NNP [0.03571428571428571]\n",
            "  |[-> . . . . . . . . . . . . . . . . .| [0:1] NP|<NNP-NNP> -> NNP * NP|<NNP-NNP> [0.03571428571428571]\n",
            "  |. [-> . . . . . . . . . . . . . . . .| [1:2] NP -> NNP * NNP [0.02857142857142857]\n",
            "  |. . . . . . . . . . . . [-> . . . . .| [12:13] NP -> DT * NP|<JJ-JJ> [0.02666666666666667]\n",
            "  |. . . . . . . . . . . . [-> . . . . .| [12:13] NP -> DT * NP|<NNP-VBG> [0.02666666666666667]\n",
            "  |. . . . . . . . . . . . [-> . . . . .| [12:13] NP -> DT * NN [0.02666666666666667]\n",
            "  |. . . . . . . . . [-> . . . . . . . .| [9:10] NP -> DT * NP|<JJ-JJ> [0.02666666666666667]\n",
            "  |. . . . . . . . . [-> . . . . . . . .| [9:10] NP -> DT * NP|<NNP-VBG> [0.02666666666666667]\n",
            "  |. . . . . . . . . [-> . . . . . . . .| [9:10] NP -> DT * NN [0.02666666666666667]\n",
            "  |. . . . . . . . . . . . . . . [---] .| [15:17] NP-TMP -> NNP CD * [0.023809523809523808]\n",
            "  |. . . . . . . . . . . . . . . [-> . .| [15:16] NP-SBJ -> NNP * NNP [0.023809523809523808]\n",
            "  |[-> . . . . . . . . . . . . . . . . .| [0:1] NP-SBJ -> NNP * NNP [0.023809523809523808]\n",
            "  |. . . . . . . . . . . . . . [-] . . .| [14:15] NP -> NN * [0.019047619047619046]\n",
            "  |. . . . . . . . . . . . . . > . . . .| [14:14] NP-SBJ-1 -> * NP NP-SBJ-1|<,-UCP> [1.0]\n",
            "  |. . . . . . . . . . . . . . > . . . .| [14:14] NP-PRD -> * NP PP [1.0]\n",
            "  |. . . . . . . . . . . . . . > . . . .| [14:14] VP|<NP-PP-CLR> -> * NP VP|<PP-CLR-NP-TMP> [1.0]\n",
            "  |. . . . . . . . . . . . . . > . . . .| [14:14] ADJP -> * NP JJ [1.0]\n",
            "  |. . . . . . . . . . . . . . > . . . .| [14:14] NP-SBJ -> * NP NP-SBJ|<,-ADJP> [0.3333333333333333]\n",
            "  |. . . . . . . . . . . . . . > . . . .| [14:14] NP -> * NP PP [0.06666666666666667]\n",
            "  |. . . . . . . . . . . . . . > . . . .| [14:14] NP -> * NP NP|<,-NP> [0.06666666666666667]\n",
            "  |. . . . . . . . . . . . . . [-> . . .| [14:15] NP-SBJ-1 -> NP * NP-SBJ-1|<,-UCP> [0.019047619047619046]\n",
            "  |. . . . . . . . . . . . . . [-> . . .| [14:15] NP-PRD -> NP * PP [0.019047619047619046]\n",
            "  |. . . . . . . . . . . . . . [-> . . .| [14:15] VP|<NP-PP-CLR> -> NP * VP|<PP-CLR-NP-TMP> [0.019047619047619046]\n",
            "  |. . . . . . . . . . . . . . [-> . . .| [14:15] ADJP -> NP * JJ [0.019047619047619046]\n",
            "  |. . . . . . . . . . . . . [-> . . . .| [13:14] NP -> JJ * NN [0.019047619047619046]\n",
            "  |. . . . . [-> . . . . . . . . . . . .| [5:6] NP -> JJ * NN [0.019047619047619046]\n",
            "  |. . . [---> . . . . . . . . . . . . .| [3:5] NP-SBJ -> NP * NP-SBJ|<,-ADJP> [0.014814814814814812]\n",
            "  |. . . . . . . . . . . . . . . [-> . .| [15:16] NP -> NNP * NNP [0.014285714285714285]\n",
            "  |[-> . . . . . . . . . . . . . . . . .| [0:1] NP -> NNP * NNP [0.014285714285714285]\n",
            "  |. . . [-----] . . . . . . . . . . . .| [3:6] ADJP -> NP JJ * [0.012698412698412697]\n",
            "  |. . . > . . . . . . . . . . . . . . .| [3:3] UCP -> * ADJP UCP|<CC-NP> [1.0]\n",
            "  |. . . > . . . . . . . . . . . . . . .| [3:3] NP-SBJ|<ADJP-,> -> * ADJP , [1.0]\n",
            "  |. . . [-----> . . . . . . . . . . . .| [3:6] UCP -> ADJP * UCP|<CC-NP> [0.012698412698412697]\n",
            "  |. . . [-----> . . . . . . . . . . . .| [3:6] NP-SBJ|<ADJP-,> -> ADJP * , [0.012698412698412697]\n",
            "  |. . . [-------] . . . . . . . . . . .| [3:7] NP-SBJ|<ADJP-,> -> ADJP , * [0.012698412698412697]\n",
            "  |. . [---------] . . . . . . . . . . .| [2:7] NP-SBJ|<,-ADJP> -> , NP-SBJ|<ADJP-,> * [0.012698412698412697]\n",
            "  |. . . . . . . . . . [-] . . . . . . .| [10:11] NP -> NN * [0.009523809523809523]\n",
            "  |. . . . . . . . . . > . . . . . . . .| [10:10] NP-SBJ-1 -> * NP NP-SBJ-1|<,-UCP> [1.0]\n",
            "  |. . . . . . . . . . > . . . . . . . .| [10:10] NP-PRD -> * NP PP [1.0]\n",
            "  |. . . . . . . . . . > . . . . . . . .| [10:10] VP|<NP-PP-CLR> -> * NP VP|<PP-CLR-NP-TMP> [1.0]\n",
            "  |. . . . . . . . . . > . . . . . . . .| [10:10] ADJP -> * NP JJ [1.0]\n",
            "  |. . . . . . . . . . > . . . . . . . .| [10:10] NP-SBJ -> * NP NP-SBJ|<,-ADJP> [0.3333333333333333]\n",
            "  |. . . . . . . . . . > . . . . . . . .| [10:10] NP -> * NP PP [0.06666666666666667]\n",
            "  |. . . . . . . . . . > . . . . . . . .| [10:10] NP -> * NP NP|<,-NP> [0.06666666666666667]\n",
            "  |. . . . . . . . . . [-> . . . . . . .| [10:11] NP-SBJ-1 -> NP * NP-SBJ-1|<,-UCP> [0.009523809523809523]\n",
            "  |. . . . . . . . . . [-> . . . . . . .| [10:11] NP-PRD -> NP * PP [0.009523809523809523]\n",
            "  |. . . . . . . . . . [-> . . . . . . .| [10:11] VP|<NP-PP-CLR> -> NP * VP|<PP-CLR-NP-TMP> [0.009523809523809523]\n",
            "  |. . . . . . . . . . [-> . . . . . . .| [10:11] ADJP -> NP * JJ [0.009523809523809523]\n",
            "  |. [-> . . . . . . . . . . . . . . . .| [1:2] NP -> NNP * NP|<NNP-NNP> [0.009523809523809523]\n",
            "  |. . . . . . . . . . . . . . [-> . . .| [14:15] NP-SBJ -> NP * NP-SBJ|<,-ADJP> [0.006349206349206348]\n",
            "  |. . . . . . . . . . . . . [---] . . .| [13:15] NP -> JJ NN * [0.005442176870748299]\n",
            "  |. . . . . . . . . . . . . > . . . . .| [13:13] NP-SBJ-1 -> * NP NP-SBJ-1|<,-UCP> [1.0]\n",
            "  |. . . . . . . . . . . . . > . . . . .| [13:13] NP-PRD -> * NP PP [1.0]\n",
            "  |. . . . . . . . . . . . . > . . . . .| [13:13] VP|<NP-PP-CLR> -> * NP VP|<PP-CLR-NP-TMP> [1.0]\n",
            "  |. . . . . . . . . . . . . > . . . . .| [13:13] ADJP -> * NP JJ [1.0]\n",
            "  |. . . . . . . . . . . . . > . . . . .| [13:13] NP-SBJ -> * NP NP-SBJ|<,-ADJP> [0.3333333333333333]\n",
            "  |. . . . . . . . . . . . . > . . . . .| [13:13] NP -> * NP PP [0.06666666666666667]\n",
            "  |. . . . . . . . . . . . . > . . . . .| [13:13] NP -> * NP NP|<,-NP> [0.06666666666666667]\n",
            "  |. . . . . . . . . . . . . [---> . . .| [13:15] NP-SBJ-1 -> NP * NP-SBJ-1|<,-UCP> [0.005442176870748299]\n",
            "  |. . . . . . . . . . . . . [---> . . .| [13:15] NP-PRD -> NP * PP [0.005442176870748299]\n",
            "  |. . . . . . . . . . . . . [---> . . .| [13:15] VP|<NP-PP-CLR> -> NP * VP|<PP-CLR-NP-TMP> [0.005442176870748299]\n",
            "  |. . . . . . . . . . . . . [---> . . .| [13:15] ADJP -> NP * JJ [0.005442176870748299]\n",
            "  |[---] . . . . . . . . . . . . . . . .| [0:2] NP|<NNP-NNP> -> NNP NNP * [0.00510204081632653]\n",
            "  |. . . . . . . . . . . . . . . [-> . .| [15:16] NP -> NNP * NP|<NNP-NNP> [0.0047619047619047615]\n",
            "  |[-> . . . . . . . . . . . . . . . . .| [0:1] NP -> NNP * NP|<NNP-NNP> [0.0047619047619047615]\n",
            "  |. . . . . . . . . . . . [-----] . . .| [12:15] NP -> DT NP|<JJ-NN> * [0.004353741496598639]\n",
            "  |. . . . . . . . . . . . > . . . . . .| [12:12] NP-SBJ-1 -> * NP NP-SBJ-1|<,-UCP> [1.0]\n",
            "  |. . . . . . . . . . . . > . . . . . .| [12:12] NP-PRD -> * NP PP [1.0]\n",
            "  |. . . . . . . . . . . . > . . . . . .| [12:12] VP|<NP-PP-CLR> -> * NP VP|<PP-CLR-NP-TMP> [1.0]\n",
            "  |. . . . . . . . . . . . > . . . . . .| [12:12] ADJP -> * NP JJ [1.0]\n",
            "  |. . . . . . . . . . . . > . . . . . .| [12:12] NP-SBJ -> * NP NP-SBJ|<,-ADJP> [0.3333333333333333]\n",
            "  |. . . . . . . . . . . . > . . . . . .| [12:12] NP -> * NP PP [0.06666666666666667]\n",
            "  |. . . . . . . . . . . . > . . . . . .| [12:12] NP -> * NP NP|<,-NP> [0.06666666666666667]\n",
            "  |. . . . . . . . . . . . [-----> . . .| [12:15] NP-SBJ-1 -> NP * NP-SBJ-1|<,-UCP> [0.004353741496598639]\n",
            "  |. . . . . . . . . . . . [-----> . . .| [12:15] NP-PRD -> NP * PP [0.004353741496598639]\n",
            "  |. . . . . . . . . . . . [-----> . . .| [12:15] VP|<NP-PP-CLR> -> NP * VP|<PP-CLR-NP-TMP> [0.004353741496598639]\n",
            "  |. . . . . . . . . . . . [-----> . . .| [12:15] ADJP -> NP * JJ [0.004353741496598639]\n",
            "  |. . . . . . . . . [---] . . . . . . .| [9:11] NP -> DT NN * [0.0038095238095238095]\n",
            "  |. . . . . . . . . > . . . . . . . . .| [9:9] NP-SBJ-1 -> * NP NP-SBJ-1|<,-UCP> [1.0]\n",
            "  |. . . . . . . . . > . . . . . . . . .| [9:9] NP-PRD -> * NP PP [1.0]\n",
            "  |. . . . . . . . . > . . . . . . . . .| [9:9] VP|<NP-PP-CLR> -> * NP VP|<PP-CLR-NP-TMP> [1.0]\n",
            "  |. . . . . . . . . > . . . . . . . . .| [9:9] ADJP -> * NP JJ [1.0]\n",
            "  |. . . . . . . . . > . . . . . . . . .| [9:9] NP-SBJ -> * NP NP-SBJ|<,-ADJP> [0.3333333333333333]\n",
            "  |. . . . . . . . . > . . . . . . . . .| [9:9] NP -> * NP PP [0.06666666666666667]\n",
            "  |. . . . . . . . . > . . . . . . . . .| [9:9] NP -> * NP NP|<,-NP> [0.06666666666666667]\n",
            "  |. . . . . . . . . [---> . . . . . . .| [9:11] NP-SBJ-1 -> NP * NP-SBJ-1|<,-UCP> [0.0038095238095238095]\n",
            "  |. . . . . . . . . [---> . . . . . . .| [9:11] NP-PRD -> NP * PP [0.0038095238095238095]\n",
            "  |. . . . . . . . . [---> . . . . . . .| [9:11] VP|<NP-PP-CLR> -> NP * VP|<PP-CLR-NP-TMP> [0.0038095238095238095]\n",
            "  |. . . . . . . . . [---> . . . . . . .| [9:11] ADJP -> NP * JJ [0.0038095238095238095]\n",
            "  |[---] . . . . . . . . . . . . . . . .| [0:2] NP-SBJ -> NNP NNP * [0.0034013605442176865]\n",
            "  |> . . . . . . . . . . . . . . . . . .| [0:0] S  -> * NP-SBJ S|<VP-.> [0.5]\n",
            "  |> . . . . . . . . . . . . . . . . . .| [0:0] S  -> * NP-SBJ NP-PRD [0.25]\n",
            "  |. . . . . . . . . . [-> . . . . . . .| [10:11] NP-SBJ -> NP * NP-SBJ|<,-ADJP> [0.003174603174603174]\n",
            "  |. . . [---> . . . . . . . . . . . . .| [3:5] NP -> NP * PP [0.0029629629629629624]\n",
            "  |. . . [---> . . . . . . . . . . . . .| [3:5] NP -> NP * NP|<,-NP> [0.0029629629629629624]\n",
            "  |[---] . . . . . . . . . . . . . . . .| [0:2] NP -> NNP NNP * [0.002040816326530612]\n",
            "  |> . . . . . . . . . . . . . . . . . .| [0:0] NP-SBJ-1 -> * NP NP-SBJ-1|<,-UCP> [1.0]\n",
            "  |> . . . . . . . . . . . . . . . . . .| [0:0] NP-PRD -> * NP PP [1.0]\n",
            "  |> . . . . . . . . . . . . . . . . . .| [0:0] VP|<NP-PP-CLR> -> * NP VP|<PP-CLR-NP-TMP> [1.0]\n",
            "  |> . . . . . . . . . . . . . . . . . .| [0:0] ADJP -> * NP JJ [1.0]\n",
            "  |> . . . . . . . . . . . . . . . . . .| [0:0] NP-SBJ -> * NP NP-SBJ|<,-ADJP> [0.3333333333333333]\n",
            "  |> . . . . . . . . . . . . . . . . . .| [0:0] NP -> * NP PP [0.06666666666666667]\n",
            "  |> . . . . . . . . . . . . . . . . . .| [0:0] NP -> * NP NP|<,-NP> [0.06666666666666667]\n",
            "  |[---> . . . . . . . . . . . . . . . .| [0:2] NP-SBJ-1 -> NP * NP-SBJ-1|<,-UCP> [0.002040816326530612]\n",
            "  |[---> . . . . . . . . . . . . . . . .| [0:2] NP-PRD -> NP * PP [0.002040816326530612]\n",
            "  |[---> . . . . . . . . . . . . . . . .| [0:2] VP|<NP-PP-CLR> -> NP * VP|<PP-CLR-NP-TMP> [0.002040816326530612]\n",
            "  |[---> . . . . . . . . . . . . . . . .| [0:2] ADJP -> NP * JJ [0.002040816326530612]\n",
            "  |. . . . . . . . . . . . . [---> . . .| [13:15] NP-SBJ -> NP * NP-SBJ|<,-ADJP> [0.0018140589569160996]\n",
            "  |[---> . . . . . . . . . . . . . . . .| [0:2] S  -> NP-SBJ * S|<VP-.> [0.0017006802721088433]\n",
            "  |. . . . . . . . . . . . [-----> . . .| [12:15] NP-SBJ -> NP * NP-SBJ|<,-ADJP> [0.0014512471655328796]\n",
            "  |. . . . . . . . . [---> . . . . . . .| [9:11] NP-SBJ -> NP * NP-SBJ|<,-ADJP> [0.0012698412698412698]\n",
            "  |. . . . . . . . . . . . . . [-> . . .| [14:15] NP -> NP * PP [0.0012698412698412696]\n",
            "  |. . . . . . . . . . . . . . [-> . . .| [14:15] NP -> NP * NP|<,-NP> [0.0012698412698412696]\n",
            "  |. . . . . . . . . . . [-------] . . .| [11:15] PP -> IN NP * [0.0010884353741496598]\n",
            "  |. . . . . . . . . . . [-------] . . .| [11:15] PP-CLR -> IN NP * [0.0010884353741496598]\n",
            "  |. . . . . . . . . . . > . . . . . . .| [11:11] VP|<PP-CLR-NP-TMP> -> * PP-CLR NP-TMP [1.0]\n",
            "  |. . . . . . . . . . . [-------> . . .| [11:15] VP|<PP-CLR-NP-TMP> -> PP-CLR * NP-TMP [0.0010884353741496598]\n",
            "  |[---> . . . . . . . . . . . . . . . .| [0:2] S  -> NP-SBJ * NP-PRD [0.0008503401360544216]\n",
            "  |[---> . . . . . . . . . . . . . . . .| [0:2] NP-SBJ -> NP * NP-SBJ|<,-ADJP> [0.0006802721088435373]\n",
            "  |. . . . . . . . . . [-> . . . . . . .| [10:11] NP -> NP * PP [0.0006349206349206348]\n",
            "  |. . . . . . . . . . [-> . . . . . . .| [10:11] NP -> NP * NP|<,-NP> [0.0006349206349206348]\n",
            "  |. . . . . . . . . . . . . [---> . . .| [13:15] NP -> NP * PP [0.0003628117913832199]\n",
            "  |. . . . . . . . . . . . . [---> . . .| [13:15] NP -> NP * NP|<,-NP> [0.0003628117913832199]\n",
            "  |. . . . . . . . . . . . [-----> . . .| [12:15] NP -> NP * PP [0.00029024943310657596]\n",
            "  |. . . . . . . . . . . . [-----> . . .| [12:15] NP -> NP * NP|<,-NP> [0.00029024943310657596]\n",
            "  |. . . . . . . . . [---> . . . . . . .| [9:11] NP -> NP * PP [0.00025396825396825396]\n",
            "  |. . . . . . . . . [---> . . . . . . .| [9:11] NP -> NP * NP|<,-NP> [0.00025396825396825396]\n",
            "  |[---> . . . . . . . . . . . . . . . .| [0:2] NP -> NP * PP [0.00013605442176870745]\n",
            "  |[---> . . . . . . . . . . . . . . . .| [0:2] NP -> NP * NP|<,-NP> [0.00013605442176870745]\n",
            "  |. . . . . . . . . . . [-----------] .| [11:17] VP|<PP-CLR-NP-TMP> -> PP-CLR NP-TMP * [2.591512795594428e-05]\n",
            "  |. . . . . . . . . . [---------] . . .| [10:15] NP-PRD -> NP PP * [1.0366051182377711e-05]\n",
            "  |[-------------] . . . . . . . . . . .| [0:7] NP-SBJ -> NP NP-SBJ|<,-ADJP> * [8.638375985314757e-06]\n",
            "  |[---------] . . . . . . . . . . . . .| [0:5] NP -> NP NP|<,-NP> * [6.04686318972033e-06]\n",
            "  |[---------> . . . . . . . . . . . . .| [0:5] NP-SBJ-1 -> NP * NP-SBJ-1|<,-UCP> [6.04686318972033e-06]\n",
            "  |[---------> . . . . . . . . . . . . .| [0:5] NP-PRD -> NP * PP [6.04686318972033e-06]\n",
            "  |[---------> . . . . . . . . . . . . .| [0:5] VP|<NP-PP-CLR> -> NP * VP|<PP-CLR-NP-TMP> [6.04686318972033e-06]\n",
            "  |[---------> . . . . . . . . . . . . .| [0:5] ADJP -> NP * JJ [6.04686318972033e-06]\n",
            "  |[-------------> . . . . . . . . . . .| [0:7] S  -> NP-SBJ * S|<VP-.> [4.319187992657379e-06]\n",
            "  |. . . . . . . . . [-----------] . . .| [9:15] NP-PRD -> NP PP * [4.146420472951085e-06]\n",
            "  |[-------------> . . . . . . . . . . .| [0:7] S  -> NP-SBJ * NP-PRD [2.1595939963286893e-06]\n",
            "  |[---------> . . . . . . . . . . . . .| [0:5] NP-SBJ -> NP * NP-SBJ|<,-ADJP> [2.01562106324011e-06]\n",
            "  |[-----------] . . . . . . . . . . . .| [0:6] ADJP -> NP JJ * [1.7276751970629514e-06]\n",
            "  |> . . . . . . . . . . . . . . . . . .| [0:0] UCP -> * ADJP UCP|<CC-NP> [1.0]\n",
            "  |> . . . . . . . . . . . . . . . . . .| [0:0] NP-SBJ|<ADJP-,> -> * ADJP , [1.0]\n",
            "  |[-----------> . . . . . . . . . . . .| [0:6] UCP -> ADJP * UCP|<CC-NP> [1.7276751970629514e-06]\n",
            "  |[-----------> . . . . . . . . . . . .| [0:6] NP-SBJ|<ADJP-,> -> ADJP * , [1.7276751970629514e-06]\n",
            "  |[-------------] . . . . . . . . . . .| [0:7] NP-SBJ|<ADJP-,> -> ADJP , * [1.7276751970629514e-06]\n",
            "  |. . . . . . . . . . [---------] . . .| [10:15] NP -> NP PP * [6.910700788251807e-07]\n",
            "  |. . . . . . . . . . [---------> . . .| [10:15] NP-SBJ-1 -> NP * NP-SBJ-1|<,-UCP> [6.910700788251807e-07]\n",
            "  |. . . . . . . . . . [---------> . . .| [10:15] NP-PRD -> NP * PP [6.910700788251807e-07]\n",
            "  |. . . . . . . . . . [---------> . . .| [10:15] VP|<NP-PP-CLR> -> NP * VP|<PP-CLR-NP-TMP> [6.910700788251807e-07]\n",
            "  |. . . . . . . . . . [---------> . . .| [10:15] ADJP -> NP * JJ [6.910700788251807e-07]\n",
            "  |[---------> . . . . . . . . . . . . .| [0:5] NP -> NP * PP [4.0312421264802203e-07]\n",
            "  |[---------> . . . . . . . . . . . . .| [0:5] NP -> NP * NP|<,-NP> [4.0312421264802203e-07]\n",
            "  |. . . . . . . . . [-----------] . . .| [9:15] NP -> NP PP * [2.764280315300723e-07]\n",
            "  |. . . . . . . . . [-----------> . . .| [9:15] NP-SBJ-1 -> NP * NP-SBJ-1|<,-UCP> [2.764280315300723e-07]\n",
            "  |. . . . . . . . . [-----------> . . .| [9:15] NP-PRD -> NP * PP [2.764280315300723e-07]\n",
            "  |. . . . . . . . . [-----------> . . .| [9:15] VP|<NP-PP-CLR> -> NP * VP|<PP-CLR-NP-TMP> [2.764280315300723e-07]\n",
            "  |. . . . . . . . . [-----------> . . .| [9:15] ADJP -> NP * JJ [2.764280315300723e-07]\n",
            "  |. . . . . . . . . . [-------------] .| [10:17] VP|<NP-PP-CLR> -> NP VP|<PP-CLR-NP-TMP> * [2.4681074243756453e-07]\n",
            "  |. . . . . . . . . . [---------> . . .| [10:15] NP-SBJ -> NP * NP-SBJ|<,-ADJP> [2.303566929417269e-07]\n",
            "  |. . . . . . . . . [---------------] .| [9:17] VP|<NP-PP-CLR> -> NP VP|<PP-CLR-NP-TMP> * [9.872429697502583e-08]\n",
            "  |. . . . . . . . . [-----------> . . .| [9:15] NP-SBJ -> NP * NP-SBJ|<,-ADJP> [9.214267717669077e-08]\n",
            "  |. . . . . . . . . . [---------> . . .| [10:15] NP -> NP * PP [4.607133858834538e-08]\n",
            "  |. . . . . . . . . . [---------> . . .| [10:15] NP -> NP * NP|<,-NP> [4.607133858834538e-08]\n",
            "  |. . . . . . . . [-----------------] .| [8:17] VP -> VB VP|<NP-PP-CLR> * [1.9744859395005166e-08]\n",
            "  |. . . . . . . . > . . . . . . . . . .| [8:8] S|<VP-.> -> * VP . [1.0]\n",
            "  |. . . . . . . . [-----------------> .| [8:17] S|<VP-.> -> VP * . [1.9744859395005166e-08]\n",
            "  |. . . . . . . . [-------------------]| [8:18] S|<VP-.> -> VP . * [1.9744859395005166e-08]\n",
            "  |. . . . . . . . . [-----------> . . .| [9:15] NP -> NP * PP [1.8428535435338155e-08]\n",
            "  |. . . . . . . . . [-----------> . . .| [9:15] NP -> NP * NP|<,-NP> [1.8428535435338155e-08]\n",
            "  |. . . . . . . [-------------------] .| [7:17] VP -> MD VP * [3.948971879001034e-09]\n",
            "  |. . . . . . . > . . . . . . . . . . .| [7:7] S|<VP-.> -> * VP . [1.0]\n",
            "  |. . . . . . . [-------------------> .| [7:17] S|<VP-.> -> VP * . [3.948971879001034e-09]\n",
            "  |. . . . . . . [---------------------]| [7:18] S|<VP-.> -> VP . * [3.948971879001034e-09]\n",
            "  |[===================================]| [0:18] S  -> NP-SBJ S|<VP-.> * [1.705635192312291e-14]\n",
            "(S\n",
            "  (NP-SBJ\n",
            "    (NP (NNP Pierre) (NNP Vinken))\n",
            "    (NP-SBJ|<,-ADJP>\n",
            "      (, ,)\n",
            "      (NP-SBJ|<ADJP-,>\n",
            "        (ADJP (NP (CD 61) (NNS years)) (JJ old))\n",
            "        (, ,))))\n",
            "  (S|<VP-.>\n",
            "    (VP\n",
            "      (MD will)\n",
            "      (VP\n",
            "        (VB join)\n",
            "        (VP|<NP-PP-CLR>\n",
            "          (NP (DT the) (NN board))\n",
            "          (VP|<PP-CLR-NP-TMP>\n",
            "            (PP-CLR\n",
            "              (IN as)\n",
            "              (NP\n",
            "                (DT a)\n",
            "                (NP|<JJ-NN>\n",
            "                  (JJ nonexecutive)\n",
            "                  (NN director))))\n",
            "            (NP-TMP (NNP Nov.) (CD 29))))))\n",
            "    (. .))) (p=1.70564e-14)\n"
          ],
          "name": "stdout"
        }
      ]
    },
    {
      "cell_type": "code",
      "metadata": {
        "id": "6JBvZIY7jbx8"
      },
      "source": [
        "import sys, time\n",
        "from nltk import tokenize\n",
        "from nltk.grammar import toy_pcfg1\n",
        "from nltk.parse import pchart\n",
        "from nltk.parse import ViterbiParser\n",
        "\n",
        "demos = [('I saw John with my telescope', toy_pcfg1)]\n",
        "sent, grammar = demos[0]\n",
        "\n",
        "# Tokenize the sentence.\n",
        "tokens = sent.split()\n",
        "\n",
        "# Define a list of parsers.  We'll use all parsers.\n",
        "parsers = [\n",
        "ViterbiParser(grammar),\n",
        "pchart.InsideChartParser(grammar),\n",
        "pchart.RandomChartParser(grammar),\n",
        "pchart.UnsortedChartParser(grammar),\n",
        "pchart.LongestChartParser(grammar),\n",
        "pchart.InsideChartParser(grammar, beam_size = len(tokens)+1)\n",
        "]"
      ],
      "execution_count": 30,
      "outputs": []
    },
    {
      "cell_type": "code",
      "metadata": {
        "id": "yoY2ZqUMjbx8",
        "outputId": "2e7af54a-7c53-4438-e3ae-407c8ad90ee2",
        "colab": {
          "base_uri": "https://localhost:8080/"
        }
      },
      "source": [
        "# Run the parsers on the tokenized sentence.\n",
        "from functools import reduce\n",
        "times = []\n",
        "average_p = []\n",
        "num_parses = []\n",
        "all_parses = {}\n",
        "for parser in parsers:\n",
        "    print('\\ns: %s\\nparser: %s\\ngrammar: %s' % (sent,parser,grammar))\n",
        "    parser.trace(3)\n",
        "    t = time.time()\n",
        "    parses = parser.parse_all(tokens)\n",
        "    times.append(time.time()-t)\n",
        "    if parses: \n",
        "        lp = len(parses)\n",
        "        p = reduce(lambda a,b:a+b.prob(), parses, 0.0)\n",
        "    else: \n",
        "        p = 0\n",
        "    average_p.append(p)\n",
        "    num_parses.append(len(parses))\n",
        "    for p in parses: \n",
        "        all_parses[p.freeze()] = 1\n",
        "\n",
        "# Print summary statistics\n",
        "print()\n",
        "print('-------------------------+------------------------------------------')\n",
        "print('   Parser           Beam | Time (secs)   # Parses   Average P(parse)')\n",
        "print('-------------------------+------------------------------------------')\n",
        "for i in range(len(parsers)):\n",
        "    print('%19s %4d |%11.4f%11d%19.14f' % (parsers[i].__class__.__name__,\n",
        "      getattr(parsers[0], \"beam_size\", 0),\n",
        "      times[i], \n",
        "      num_parses[i], \n",
        "      average_p[i]))\n",
        "parses = all_parses.keys()\n",
        "if parses: \n",
        "    p = reduce(lambda a,b:a+b.prob(), parses, 0)/len(parses)\n",
        "else: \n",
        "    p = 0\n",
        "print('-------------------------+------------------------------------------')\n",
        "print('%19s      |%11s%11d%19.14f' % ('(All Parses)', 'n/a', len(parses), p))\n",
        "print()\n",
        "\n",
        "for parse in parses:\n",
        "    print(parse)"
      ],
      "execution_count": 31,
      "outputs": [
        {
          "output_type": "stream",
          "text": [
            "\n",
            "s: I saw John with my telescope\n",
            "parser: <ViterbiParser for <Grammar with 17 productions>>\n",
            "grammar: Grammar with 17 productions (start state = S)\n",
            "    S -> NP VP [1.0]\n",
            "    NP -> Det N [0.5]\n",
            "    NP -> NP PP [0.25]\n",
            "    NP -> 'John' [0.1]\n",
            "    NP -> 'I' [0.15]\n",
            "    Det -> 'the' [0.8]\n",
            "    Det -> 'my' [0.2]\n",
            "    N -> 'man' [0.5]\n",
            "    N -> 'telescope' [0.5]\n",
            "    VP -> VP PP [0.1]\n",
            "    VP -> V NP [0.7]\n",
            "    VP -> V [0.2]\n",
            "    V -> 'ate' [0.35]\n",
            "    V -> 'saw' [0.65]\n",
            "    PP -> P NP [1.0]\n",
            "    P -> 'with' [0.61]\n",
            "    P -> 'under' [0.39]\n",
            "Inserting tokens into the most likely constituents table...\n",
            "   Insert: |=.....| I\n",
            "   Insert: |.=....| saw\n",
            "   Insert: |..=...| John\n",
            "   Insert: |...=..| with\n",
            "   Insert: |....=.| my\n",
            "   Insert: |.....=| telescope\n",
            "Finding the most likely constituents spanning 1 text elements...\n",
            "   Insert: |=.....| NP -> 'I' [0.15]                0.1500000000 \n",
            "   Insert: |.=....| V -> 'saw' [0.65]               0.6500000000 \n",
            "   Insert: |.=....| VP -> V [0.2]                   0.1300000000 \n",
            "   Insert: |..=...| NP -> 'John' [0.1]              0.1000000000 \n",
            "   Insert: |...=..| P -> 'with' [0.61]              0.6100000000 \n",
            "   Insert: |....=.| Det -> 'my' [0.2]               0.2000000000 \n",
            "   Insert: |.....=| N -> 'telescope' [0.5]          0.5000000000 \n",
            "Finding the most likely constituents spanning 2 text elements...\n",
            "   Insert: |==....| S -> NP VP [1.0]                0.0195000000 \n",
            "   Insert: |.==...| VP -> V NP [0.7]                0.0455000000 \n",
            "   Insert: |....==| NP -> Det N [0.5]               0.0500000000 \n",
            "Finding the most likely constituents spanning 3 text elements...\n",
            "   Insert: |===...| S -> NP VP [1.0]                0.0068250000 \n",
            "   Insert: |...===| PP -> P NP [1.0]                0.0305000000 \n",
            "Finding the most likely constituents spanning 4 text elements...\n",
            "   Insert: |..====| NP -> NP PP [0.25]              0.0007625000 \n",
            "Finding the most likely constituents spanning 5 text elements...\n",
            "   Insert: |.=====| VP -> VP PP [0.1]               0.0001387750 \n",
            "   Insert: |.=====| VP -> V NP [0.7]                0.0003469375 \n",
            "  Discard: |.=====| VP -> VP PP [0.1]               0.0001387750 \n",
            "Finding the most likely constituents spanning 6 text elements...\n",
            "   Insert: |======| S -> NP VP [1.0]                0.0000520406 \n",
            "\n",
            "s: I saw John with my telescope\n",
            "parser: <nltk.parse.pchart.InsideChartParser object at 0x7f1a2a967cf8>\n",
            "grammar: Grammar with 17 productions (start state = S)\n",
            "    S -> NP VP [1.0]\n",
            "    NP -> Det N [0.5]\n",
            "    NP -> NP PP [0.25]\n",
            "    NP -> 'John' [0.1]\n",
            "    NP -> 'I' [0.15]\n",
            "    Det -> 'the' [0.8]\n",
            "    Det -> 'my' [0.2]\n",
            "    N -> 'man' [0.5]\n",
            "    N -> 'telescope' [0.5]\n",
            "    VP -> VP PP [0.1]\n",
            "    VP -> V NP [0.7]\n",
            "    VP -> V [0.2]\n",
            "    V -> 'ate' [0.35]\n",
            "    V -> 'saw' [0.65]\n",
            "    PP -> P NP [1.0]\n",
            "    P -> 'with' [0.61]\n",
            "    P -> 'under' [0.39]\n",
            "  |[-] . . . . .| [0:1] 'I'                          [1.0]\n",
            "  |. [-] . . . .| [1:2] 'saw'                        [1.0]\n",
            "  |. . [-] . . .| [2:3] 'John'                       [1.0]\n",
            "  |. . . [-] . .| [3:4] 'with'                       [1.0]\n",
            "  |. . . . [-] .| [4:5] 'my'                         [1.0]\n",
            "  |. . . . . [-]| [5:6] 'telescope'                  [1.0]\n",
            "  |. . . . . [-]| [5:6] 'telescope'                  [1.0]\n",
            "  |. . . . [-] .| [4:5] 'my'                         [1.0]\n",
            "  |. . . [-] . .| [3:4] 'with'                       [1.0]\n",
            "  |. . [-] . . .| [2:3] 'John'                       [1.0]\n",
            "  |. [-] . . . .| [1:2] 'saw'                        [1.0]\n",
            "  |[-] . . . . .| [0:1] 'I'                          [1.0]\n",
            "  |. [-] . . . .| [1:2] V  -> 'saw' *                [0.65]\n",
            "  |. > . . . . .| [1:1] VP -> * V NP                 [0.7]\n",
            "  |. > . . . . .| [1:1] V  -> * 'saw'                [0.65]\n",
            "  |. . . [-] . .| [3:4] P  -> 'with' *               [0.61]\n",
            "  |. . . > . . .| [3:3] PP -> * P NP                 [1.0]\n",
            "  |. . . [-> . .| [3:4] PP -> P * NP                 [0.61]\n",
            "  |. . . > . . .| [3:3] P  -> * 'with'               [0.61]\n",
            "  |. . . . . [-]| [5:6] N  -> 'telescope' *          [0.5]\n",
            "  |. . . . . > .| [5:5] N  -> * 'telescope'          [0.5]\n",
            "  |. [-> . . . .| [1:2] VP -> V * NP                 [0.45499999999999996]\n",
            "  |. > . . . . .| [1:1] VP -> * V                    [0.2]\n",
            "  |. . . . [-] .| [4:5] Det -> 'my' *                [0.2]\n",
            "  |. . . . > . .| [4:4] NP -> * Det N                [0.5]\n",
            "  |. . . . > . .| [4:4] Det -> * 'my'                [0.2]\n",
            "  |[-] . . . . .| [0:1] NP -> 'I' *                  [0.15]\n",
            "  |> . . . . . .| [0:0] S  -> * NP VP                [1.0]\n",
            "  |> . . . . . .| [0:0] NP -> * NP PP                [0.25]\n",
            "  |[-> . . . . .| [0:1] S  -> NP * VP                [0.15]\n",
            "  |> . . . . . .| [0:0] NP -> * 'I'                  [0.15]\n",
            "  |. [-] . . . .| [1:2] VP -> V *                    [0.13]\n",
            "  |. > . . . . .| [1:1] VP -> * VP PP                [0.1]\n",
            "  |. . . . [-> .| [4:5] NP -> Det * N                [0.1]\n",
            "  |. . [-] . . .| [2:3] NP -> 'John' *               [0.1]\n",
            "  |. . > . . . .| [2:2] S  -> * NP VP                [1.0]\n",
            "  |. . > . . . .| [2:2] NP -> * NP PP                [0.25]\n",
            "  |. . [-> . . .| [2:3] S  -> NP * VP                [0.1]\n",
            "  |. . > . . . .| [2:2] NP -> * 'John'               [0.1]\n",
            "  |. . . . [---]| [4:6] NP -> Det N *                [0.05]\n",
            "  |. . . . > . .| [4:4] S  -> * NP VP                [1.0]\n",
            "  |. . . . > . .| [4:4] NP -> * NP PP                [0.25]\n",
            "  |. . . . [--->| [4:6] S  -> NP * VP                [0.05]\n",
            "  |. [---] . . .| [1:3] VP -> V NP *                 [0.0455]\n",
            "  |[-> . . . . .| [0:1] NP -> NP * PP                [0.0375]\n",
            "  |. . . [-----]| [3:6] PP -> P NP *                 [0.0305]\n",
            "  |. . [-> . . .| [2:3] NP -> NP * PP                [0.025]\n",
            "  |[---] . . . .| [0:2] S  -> NP VP *                [0.0195]\n",
            "  |. [-> . . . .| [1:2] VP -> VP * PP                [0.013000000000000001]\n",
            "  |. . . . [--->| [4:6] NP -> NP * PP                [0.0125]\n",
            "  |[-----] . . .| [0:3] S  -> NP VP *                [0.0068249999999999995]\n",
            "  |. [---> . . .| [1:3] VP -> VP * PP                [0.00455]\n",
            "  |. . [-------]| [2:6] NP -> NP PP *                [0.0007625]\n",
            "  |. . [------->| [2:6] S  -> NP * VP                [0.0007625]\n",
            "  |. [---------]| [1:6] VP -> V NP *                 [0.00034693749999999997]\n",
            "  |. . [------->| [2:6] NP -> NP * PP                [0.000190625]\n",
            "  |. [---------]| [1:6] VP -> VP PP *                [0.000138775]\n",
            "  |[===========]| [0:6] S  -> NP VP *                [5.204062499999999e-05]\n",
            "  |. [--------->| [1:6] VP -> VP * PP                [3.469375e-05]\n",
            "  |[===========]| [0:6] S  -> NP VP *                [2.081625e-05]\n",
            "  |. [--------->| [1:6] VP -> VP * PP                [1.38775e-05]\n",
            "\n",
            "s: I saw John with my telescope\n",
            "parser: <nltk.parse.pchart.RandomChartParser object at 0x7f1a2a967cc0>\n",
            "grammar: Grammar with 17 productions (start state = S)\n",
            "    S -> NP VP [1.0]\n",
            "    NP -> Det N [0.5]\n",
            "    NP -> NP PP [0.25]\n",
            "    NP -> 'John' [0.1]\n",
            "    NP -> 'I' [0.15]\n",
            "    Det -> 'the' [0.8]\n",
            "    Det -> 'my' [0.2]\n",
            "    N -> 'man' [0.5]\n",
            "    N -> 'telescope' [0.5]\n",
            "    VP -> VP PP [0.1]\n",
            "    VP -> V NP [0.7]\n",
            "    VP -> V [0.2]\n",
            "    V -> 'ate' [0.35]\n",
            "    V -> 'saw' [0.65]\n",
            "    PP -> P NP [1.0]\n",
            "    P -> 'with' [0.61]\n",
            "    P -> 'under' [0.39]\n",
            "  |[-] . . . . .| [0:1] 'I'                          [1.0]\n",
            "  |. [-] . . . .| [1:2] 'saw'                        [1.0]\n",
            "  |. . [-] . . .| [2:3] 'John'                       [1.0]\n",
            "  |. . . [-] . .| [3:4] 'with'                       [1.0]\n",
            "  |. . . . [-] .| [4:5] 'my'                         [1.0]\n",
            "  |. . . . . [-]| [5:6] 'telescope'                  [1.0]\n",
            "  |. . . . [-] .| [4:5] 'my'                         [1.0]\n",
            "  |. [-] . . . .| [1:2] 'saw'                        [1.0]\n",
            "  |. > . . . . .| [1:1] V  -> * 'saw'                [0.65]\n",
            "  |. . . . [-] .| [4:5] Det -> 'my' *                [0.2]\n",
            "  |. . . . [-> .| [4:5] NP -> Det * N                [0.1]\n",
            "  |. . . . > . .| [4:4] NP -> * Det N                [0.5]\n",
            "  |. [-] . . . .| [1:2] V  -> 'saw' *                [0.65]\n",
            "  |. > . . . . .| [1:1] VP -> * V NP                 [0.7]\n",
            "  |[-] . . . . .| [0:1] 'I'                          [1.0]\n",
            "  |. . . [-] . .| [3:4] 'with'                       [1.0]\n",
            "  |> . . . . . .| [0:0] NP -> * 'I'                  [0.15]\n",
            "  |. [-> . . . .| [1:2] VP -> V * NP                 [0.45499999999999996]\n",
            "  |. . . . . [-]| [5:6] 'telescope'                  [1.0]\n",
            "  |. [-] . . . .| [1:2] VP -> V *                    [0.13]\n",
            "  |. . . . . > .| [5:5] N  -> * 'telescope'          [0.5]\n",
            "  |. [-> . . . .| [1:2] VP -> VP * PP                [0.013000000000000001]\n",
            "  |. . . > . . .| [3:3] P  -> * 'with'               [0.61]\n",
            "  |. . . [-] . .| [3:4] P  -> 'with' *               [0.61]\n",
            "  |. > . . . . .| [1:1] VP -> * VP PP                [0.1]\n",
            "  |. . [-] . . .| [2:3] 'John'                       [1.0]\n",
            "  |. . . > . . .| [3:3] PP -> * P NP                 [1.0]\n",
            "  |[-] . . . . .| [0:1] NP -> 'I' *                  [0.15]\n",
            "  |> . . . . . .| [0:0] S  -> * NP VP                [1.0]\n",
            "  |. . . . > . .| [4:4] Det -> * 'my'                [0.2]\n",
            "  |[-> . . . . .| [0:1] NP -> NP * PP                [0.0375]\n",
            "  |> . . . . . .| [0:0] NP -> * NP PP                [0.25]\n",
            "  |. . [-] . . .| [2:3] NP -> 'John' *               [0.1]\n",
            "  |. . . . . [-]| [5:6] N  -> 'telescope' *          [0.5]\n",
            "  |. > . . . . .| [1:1] VP -> * V                    [0.2]\n",
            "  |[-> . . . . .| [0:1] S  -> NP * VP                [0.15]\n",
            "  |. . > . . . .| [2:2] NP -> * NP PP                [0.25]\n",
            "  |. [---] . . .| [1:3] VP -> V NP *                 [0.0455]\n",
            "  |. . [-> . . .| [2:3] S  -> NP * VP                [0.1]\n",
            "  |. . . [-> . .| [3:4] PP -> P * NP                 [0.61]\n",
            "  |. [---> . . .| [1:3] VP -> VP * PP                [0.00455]\n",
            "  |[-----] . . .| [0:3] S  -> NP VP *                [0.0068249999999999995]\n",
            "  |. [---------]| [1:6] VP -> VP PP *                [0.000138775]\n",
            "  |. . > . . . .| [2:2] NP -> * 'John'               [0.1]\n",
            "  |. . . [-----]| [3:6] PP -> P NP *                 [0.0305]\n",
            "  |. . [-------]| [2:6] NP -> NP PP *                [0.0007625]\n",
            "  |. . [-> . . .| [2:3] NP -> NP * PP                [0.025]\n",
            "  |[===========]| [0:6] S  -> NP VP *                [2.081625e-05]\n",
            "  |. . [------->| [2:6] S  -> NP * VP                [0.0007625]\n",
            "  |[---] . . . .| [0:2] S  -> NP VP *                [0.0195]\n",
            "  |. [--------->| [1:6] VP -> VP * PP                [1.38775e-05]\n",
            "  |. . [------->| [2:6] NP -> NP * PP                [0.000190625]\n",
            "  |. [---------]| [1:6] VP -> V NP *                 [0.00034693749999999997]\n",
            "  |[===========]| [0:6] S  -> NP VP *                [5.204062499999999e-05]\n",
            "  |. . . . [---]| [4:6] NP -> Det N *                [0.05]\n",
            "  |. . . . [--->| [4:6] NP -> NP * PP                [0.0125]\n",
            "  |. . . . > . .| [4:4] S  -> * NP VP                [1.0]\n",
            "  |. . . . > . .| [4:4] NP -> * NP PP                [0.25]\n",
            "  |. [--------->| [1:6] VP -> VP * PP                [3.469375e-05]\n",
            "  |. . . . [--->| [4:6] S  -> NP * VP                [0.05]\n",
            "  |. . > . . . .| [2:2] S  -> * NP VP                [1.0]\n",
            "\n",
            "s: I saw John with my telescope\n",
            "parser: <nltk.parse.pchart.UnsortedChartParser object at 0x7f1a2a967c18>\n",
            "grammar: Grammar with 17 productions (start state = S)\n",
            "    S -> NP VP [1.0]\n",
            "    NP -> Det N [0.5]\n",
            "    NP -> NP PP [0.25]\n",
            "    NP -> 'John' [0.1]\n",
            "    NP -> 'I' [0.15]\n",
            "    Det -> 'the' [0.8]\n",
            "    Det -> 'my' [0.2]\n",
            "    N -> 'man' [0.5]\n",
            "    N -> 'telescope' [0.5]\n",
            "    VP -> VP PP [0.1]\n",
            "    VP -> V NP [0.7]\n",
            "    VP -> V [0.2]\n",
            "    V -> 'ate' [0.35]\n",
            "    V -> 'saw' [0.65]\n",
            "    PP -> P NP [1.0]\n",
            "    P -> 'with' [0.61]\n",
            "    P -> 'under' [0.39]\n",
            "  |[-] . . . . .| [0:1] 'I'                          [1.0]\n",
            "  |. [-] . . . .| [1:2] 'saw'                        [1.0]\n",
            "  |. . [-] . . .| [2:3] 'John'                       [1.0]\n",
            "  |. . . [-] . .| [3:4] 'with'                       [1.0]\n",
            "  |. . . . [-] .| [4:5] 'my'                         [1.0]\n",
            "  |. . . . . [-]| [5:6] 'telescope'                  [1.0]\n",
            "  |. . . . . [-]| [5:6] 'telescope'                  [1.0]\n",
            "  |. . . . . [-]| [5:6] N  -> 'telescope' *          [0.5]\n",
            "  |. . . . . > .| [5:5] N  -> * 'telescope'          [0.5]\n",
            "  |. . . . [-] .| [4:5] 'my'                         [1.0]\n",
            "  |. . . . [-] .| [4:5] Det -> 'my' *                [0.2]\n",
            "  |. . . . [-> .| [4:5] NP -> Det * N                [0.1]\n",
            "  |. . . . [---]| [4:6] NP -> Det N *                [0.05]\n",
            "  |. . . . [--->| [4:6] NP -> NP * PP                [0.0125]\n",
            "  |. . . . [--->| [4:6] S  -> NP * VP                [0.05]\n",
            "  |. . . . > . .| [4:4] NP -> * NP PP                [0.25]\n",
            "  |. . . . > . .| [4:4] S  -> * NP VP                [1.0]\n",
            "  |. . . . > . .| [4:4] NP -> * Det N                [0.5]\n",
            "  |. . . . > . .| [4:4] Det -> * 'my'                [0.2]\n",
            "  |. . . [-] . .| [3:4] 'with'                       [1.0]\n",
            "  |. . . [-] . .| [3:4] P  -> 'with' *               [0.61]\n",
            "  |. . . [-> . .| [3:4] PP -> P * NP                 [0.61]\n",
            "  |. . . [-----]| [3:6] PP -> P NP *                 [0.0305]\n",
            "  |. . . > . . .| [3:3] PP -> * P NP                 [1.0]\n",
            "  |. . . > . . .| [3:3] P  -> * 'with'               [0.61]\n",
            "  |. . [-] . . .| [2:3] 'John'                       [1.0]\n",
            "  |. . [-] . . .| [2:3] NP -> 'John' *               [0.1]\n",
            "  |. . [-> . . .| [2:3] NP -> NP * PP                [0.025]\n",
            "  |. . [-------]| [2:6] NP -> NP PP *                [0.0007625]\n",
            "  |. . [------->| [2:6] NP -> NP * PP                [0.000190625]\n",
            "  |. . [------->| [2:6] S  -> NP * VP                [0.0007625]\n",
            "  |. . [-> . . .| [2:3] S  -> NP * VP                [0.1]\n",
            "  |. . > . . . .| [2:2] NP -> * NP PP                [0.25]\n",
            "  |. . > . . . .| [2:2] S  -> * NP VP                [1.0]\n",
            "  |. . > . . . .| [2:2] NP -> * 'John'               [0.1]\n",
            "  |. [-] . . . .| [1:2] 'saw'                        [1.0]\n",
            "  |. [-] . . . .| [1:2] V  -> 'saw' *                [0.65]\n",
            "  |. [-] . . . .| [1:2] VP -> V *                    [0.13]\n",
            "  |. [-> . . . .| [1:2] VP -> VP * PP                [0.013000000000000001]\n",
            "  |. > . . . . .| [1:1] VP -> * VP PP                [0.1]\n",
            "  |. [-> . . . .| [1:2] VP -> V * NP                 [0.45499999999999996]\n",
            "  |. [---------]| [1:6] VP -> V NP *                 [0.00034693749999999997]\n",
            "  |. [--------->| [1:6] VP -> VP * PP                [3.469375e-05]\n",
            "  |. [---] . . .| [1:3] VP -> V NP *                 [0.0455]\n",
            "  |. [---> . . .| [1:3] VP -> VP * PP                [0.00455]\n",
            "  |. [---------]| [1:6] VP -> VP PP *                [0.000138775]\n",
            "  |. [--------->| [1:6] VP -> VP * PP                [1.38775e-05]\n",
            "  |. > . . . . .| [1:1] VP -> * V                    [0.2]\n",
            "  |. > . . . . .| [1:1] VP -> * V NP                 [0.7]\n",
            "  |. > . . . . .| [1:1] V  -> * 'saw'                [0.65]\n",
            "  |[-] . . . . .| [0:1] 'I'                          [1.0]\n",
            "  |[-] . . . . .| [0:1] NP -> 'I' *                  [0.15]\n",
            "  |[-> . . . . .| [0:1] NP -> NP * PP                [0.0375]\n",
            "  |[-> . . . . .| [0:1] S  -> NP * VP                [0.15]\n",
            "  |[===========]| [0:6] S  -> NP VP *                [2.081625e-05]\n",
            "  |[===========]| [0:6] S  -> NP VP *                [5.204062499999999e-05]\n",
            "  |[-----] . . .| [0:3] S  -> NP VP *                [0.0068249999999999995]\n",
            "  |[---] . . . .| [0:2] S  -> NP VP *                [0.0195]\n",
            "  |> . . . . . .| [0:0] NP -> * NP PP                [0.25]\n",
            "  |> . . . . . .| [0:0] S  -> * NP VP                [1.0]\n",
            "  |> . . . . . .| [0:0] NP -> * 'I'                  [0.15]\n",
            "\n",
            "s: I saw John with my telescope\n",
            "parser: <nltk.parse.pchart.LongestChartParser object at 0x7f1a2a967ba8>\n",
            "grammar: Grammar with 17 productions (start state = S)\n",
            "    S -> NP VP [1.0]\n",
            "    NP -> Det N [0.5]\n",
            "    NP -> NP PP [0.25]\n",
            "    NP -> 'John' [0.1]\n",
            "    NP -> 'I' [0.15]\n",
            "    Det -> 'the' [0.8]\n",
            "    Det -> 'my' [0.2]\n",
            "    N -> 'man' [0.5]\n",
            "    N -> 'telescope' [0.5]\n",
            "    VP -> VP PP [0.1]\n",
            "    VP -> V NP [0.7]\n",
            "    VP -> V [0.2]\n",
            "    V -> 'ate' [0.35]\n",
            "    V -> 'saw' [0.65]\n",
            "    PP -> P NP [1.0]\n",
            "    P -> 'with' [0.61]\n",
            "    P -> 'under' [0.39]\n",
            "  |[-] . . . . .| [0:1] 'I'                          [1.0]\n",
            "  |. [-] . . . .| [1:2] 'saw'                        [1.0]\n",
            "  |. . [-] . . .| [2:3] 'John'                       [1.0]\n",
            "  |. . . [-] . .| [3:4] 'with'                       [1.0]\n",
            "  |. . . . [-] .| [4:5] 'my'                         [1.0]\n",
            "  |. . . . . [-]| [5:6] 'telescope'                  [1.0]\n",
            "  |. . . . . [-]| [5:6] 'telescope'                  [1.0]\n",
            "  |. . . . . [-]| [5:6] N  -> 'telescope' *          [0.5]\n",
            "  |. . . . [-] .| [4:5] 'my'                         [1.0]\n",
            "  |. . . . [-] .| [4:5] Det -> 'my' *                [0.2]\n",
            "  |. . . . [-> .| [4:5] NP -> Det * N                [0.1]\n",
            "  |. . . . [---]| [4:6] NP -> Det N *                [0.05]\n",
            "  |. . . . [--->| [4:6] NP -> NP * PP                [0.0125]\n",
            "  |. . . . [--->| [4:6] S  -> NP * VP                [0.05]\n",
            "  |. . . [-] . .| [3:4] 'with'                       [1.0]\n",
            "  |. . . [-] . .| [3:4] P  -> 'with' *               [0.61]\n",
            "  |. . . [-> . .| [3:4] PP -> P * NP                 [0.61]\n",
            "  |. . . [-----]| [3:6] PP -> P NP *                 [0.0305]\n",
            "  |. . [-] . . .| [2:3] 'John'                       [1.0]\n",
            "  |. . [-] . . .| [2:3] NP -> 'John' *               [0.1]\n",
            "  |. . [-> . . .| [2:3] NP -> NP * PP                [0.025]\n",
            "  |. . [-------]| [2:6] NP -> NP PP *                [0.0007625]\n",
            "  |. . [------->| [2:6] NP -> NP * PP                [0.000190625]\n",
            "  |. . [------->| [2:6] S  -> NP * VP                [0.0007625]\n",
            "  |. . [-> . . .| [2:3] S  -> NP * VP                [0.1]\n",
            "  |. [-] . . . .| [1:2] 'saw'                        [1.0]\n",
            "  |. [-] . . . .| [1:2] V  -> 'saw' *                [0.65]\n",
            "  |. [-] . . . .| [1:2] VP -> V *                    [0.13]\n",
            "  |. [-> . . . .| [1:2] VP -> VP * PP                [0.013000000000000001]\n",
            "  |. [-> . . . .| [1:2] VP -> V * NP                 [0.45499999999999996]\n",
            "  |. [---------]| [1:6] VP -> V NP *                 [0.00034693749999999997]\n",
            "  |. [--------->| [1:6] VP -> VP * PP                [3.469375e-05]\n",
            "  |. [---] . . .| [1:3] VP -> V NP *                 [0.0455]\n",
            "  |. [---> . . .| [1:3] VP -> VP * PP                [0.00455]\n",
            "  |. [---------]| [1:6] VP -> VP PP *                [0.000138775]\n",
            "  |. [--------->| [1:6] VP -> VP * PP                [1.38775e-05]\n",
            "  |[-] . . . . .| [0:1] 'I'                          [1.0]\n",
            "  |[-] . . . . .| [0:1] NP -> 'I' *                  [0.15]\n",
            "  |[-> . . . . .| [0:1] NP -> NP * PP                [0.0375]\n",
            "  |[-> . . . . .| [0:1] S  -> NP * VP                [0.15]\n",
            "  |[===========]| [0:6] S  -> NP VP *                [2.081625e-05]\n",
            "  |[===========]| [0:6] S  -> NP VP *                [5.204062499999999e-05]\n",
            "  |[-----] . . .| [0:3] S  -> NP VP *                [0.0068249999999999995]\n",
            "  |[---] . . . .| [0:2] S  -> NP VP *                [0.0195]\n",
            "  |> . . . . . .| [0:0] NP -> * NP PP                [0.25]\n",
            "  |> . . . . . .| [0:0] S  -> * NP VP                [1.0]\n",
            "  |> . . . . . .| [0:0] NP -> * 'I'                  [0.15]\n",
            "  |. > . . . . .| [1:1] VP -> * VP PP                [0.1]\n",
            "  |. > . . . . .| [1:1] VP -> * V                    [0.2]\n",
            "  |. > . . . . .| [1:1] VP -> * V NP                 [0.7]\n",
            "  |. > . . . . .| [1:1] V  -> * 'saw'                [0.65]\n",
            "  |. . > . . . .| [2:2] NP -> * NP PP                [0.25]\n",
            "  |. . > . . . .| [2:2] S  -> * NP VP                [1.0]\n",
            "  |. . > . . . .| [2:2] NP -> * 'John'               [0.1]\n",
            "  |. . . > . . .| [3:3] PP -> * P NP                 [1.0]\n",
            "  |. . . > . . .| [3:3] P  -> * 'with'               [0.61]\n",
            "  |. . . . > . .| [4:4] NP -> * NP PP                [0.25]\n",
            "  |. . . . > . .| [4:4] S  -> * NP VP                [1.0]\n",
            "  |. . . . > . .| [4:4] NP -> * Det N                [0.5]\n",
            "  |. . . . > . .| [4:4] Det -> * 'my'                [0.2]\n",
            "  |. . . . . > .| [5:5] N  -> * 'telescope'          [0.5]\n",
            "\n",
            "s: I saw John with my telescope\n",
            "parser: <nltk.parse.pchart.InsideChartParser object at 0x7f1a2a967ac8>\n",
            "grammar: Grammar with 17 productions (start state = S)\n",
            "    S -> NP VP [1.0]\n",
            "    NP -> Det N [0.5]\n",
            "    NP -> NP PP [0.25]\n",
            "    NP -> 'John' [0.1]\n",
            "    NP -> 'I' [0.15]\n",
            "    Det -> 'the' [0.8]\n",
            "    Det -> 'my' [0.2]\n",
            "    N -> 'man' [0.5]\n",
            "    N -> 'telescope' [0.5]\n",
            "    VP -> VP PP [0.1]\n",
            "    VP -> V NP [0.7]\n",
            "    VP -> V [0.2]\n",
            "    V -> 'ate' [0.35]\n",
            "    V -> 'saw' [0.65]\n",
            "    PP -> P NP [1.0]\n",
            "    P -> 'with' [0.61]\n",
            "    P -> 'under' [0.39]\n",
            "  |[-] . . . . .| [0:1] 'I'                          [1.0]\n",
            "  |. [-] . . . .| [1:2] 'saw'                        [1.0]\n",
            "  |. . [-] . . .| [2:3] 'John'                       [1.0]\n",
            "  |. . . [-] . .| [3:4] 'with'                       [1.0]\n",
            "  |. . . . [-] .| [4:5] 'my'                         [1.0]\n",
            "  |. . . . . [-]| [5:6] 'telescope'                  [1.0]\n",
            "  |. . . . . [-]| [5:6] 'telescope'                  [1.0]\n",
            "  |. . . . [-] .| [4:5] 'my'                         [1.0]\n",
            "  |. . . . > . .| [4:4] Det -> * 'my'                [DISCARDED]\n",
            "  |. . . [-] . .| [3:4] 'with'                       [1.0]\n",
            "  |. . . . [-] .| [4:5] Det -> 'my' *                [DISCARDED]\n",
            "  |. . [-] . . .| [2:3] 'John'                       [1.0]\n",
            "  |. . > . . . .| [2:2] NP -> * 'John'               [DISCARDED]\n",
            "  |. [-] . . . .| [1:2] 'saw'                        [1.0]\n",
            "  |. . [-] . . .| [2:3] NP -> 'John' *               [DISCARDED]\n",
            "  |[-] . . . . .| [0:1] 'I'                          [1.0]\n",
            "  |> . . . . . .| [0:0] NP -> * 'I'                  [DISCARDED]\n",
            "  |. [-] . . . .| [1:2] V  -> 'saw' *                [0.65]\n",
            "  |. [-] . . . .| [1:2] VP -> V *                    [DISCARDED]\n",
            "  |[-] . . . . .| [0:1] NP -> 'I' *                  [DISCARDED]\n",
            "  |. > . . . . .| [1:1] VP -> * V                    [DISCARDED]\n",
            "  |. > . . . . .| [1:1] VP -> * V NP                 [0.7]\n",
            "  |. > . . . . .| [1:1] V  -> * 'saw'                [0.65]\n",
            "  |. . . [-] . .| [3:4] P  -> 'with' *               [0.61]\n",
            "  |. . . > . . .| [3:3] PP -> * P NP                 [1.0]\n",
            "  |. . . [-> . .| [3:4] PP -> P * NP                 [0.61]\n",
            "  |. . . > . . .| [3:3] P  -> * 'with'               [0.61]\n",
            "  |. . . . . [-]| [5:6] N  -> 'telescope' *          [0.5]\n",
            "  |. . . . . > .| [5:5] N  -> * 'telescope'          [0.5]\n",
            "  |. [-> . . . .| [1:2] VP -> V * NP                 [0.45499999999999996]\n",
            "  |. [---] . . .| [1:3] VP -> V NP *                 [0.0455]\n",
            "  |. > . . . . .| [1:1] VP -> * VP PP                [0.1]\n",
            "  |. [-> . . . .| [1:2] VP -> VP * PP                [0.013000000000000001]\n",
            "  |. [---> . . .| [1:3] VP -> VP * PP                [0.00455]\n",
            "\n",
            "-------------------------+------------------------------------------\n",
            "   Parser           Beam | Time (secs)   # Parses   Average P(parse)\n",
            "-------------------------+------------------------------------------\n",
            "      ViterbiParser    0 |     0.0041          1   0.00005204062500\n",
            "  InsideChartParser    0 |     0.0068          2   0.00007285687500\n",
            "  RandomChartParser    0 |     0.0100          2   0.00007285687500\n",
            "UnsortedChartParser    0 |     0.0095          2   0.00007285687500\n",
            " LongestChartParser    0 |     0.0096          2   0.00007285687500\n",
            "  InsideChartParser    0 |     0.0036          0   0.00000000000000\n",
            "-------------------------+------------------------------------------\n",
            "       (All Parses)      |        n/a          2   0.00003642843750\n",
            "\n",
            "(S\n",
            "  (NP I)\n",
            "  (VP\n",
            "    (V saw)\n",
            "    (NP\n",
            "      (NP John)\n",
            "      (PP (P with) (NP (Det my) (N telescope)))))) [5.204062499999999e-05]\n",
            "(S\n",
            "  (NP I)\n",
            "  (VP\n",
            "    (VP (V saw) (NP John))\n",
            "    (PP (P with) (NP (Det my) (N telescope))))) [2.081625e-05]\n"
          ],
          "name": "stdout"
        }
      ]
    },
    {
      "cell_type": "code",
      "metadata": {
        "id": "tYzXM9g9jbx8"
      },
      "source": [
        ""
      ],
      "execution_count": 31,
      "outputs": []
    }
  ]
}