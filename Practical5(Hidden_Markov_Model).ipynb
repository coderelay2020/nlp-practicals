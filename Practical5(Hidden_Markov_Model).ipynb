{
  "nbformat": 4,
  "nbformat_minor": 0,
  "metadata": {
    "kernelspec": {
      "display_name": "Python 3",
      "language": "python",
      "name": "python3"
    },
    "language_info": {
      "codemirror_mode": {
        "name": "ipython",
        "version": 3
      },
      "file_extension": ".py",
      "mimetype": "text/x-python",
      "name": "python",
      "nbconvert_exporter": "python",
      "pygments_lexer": "ipython3",
      "version": "3.7.3"
    },
    "colab": {
      "name": "Practical5(Hidden Markov Model).ipynb",
      "provenance": []
    }
  },
  "cells": [
    {
      "cell_type": "code",
      "metadata": {
        "id": "n-MfC9tKkp9v"
      },
      "source": [
        "import nltk"
      ],
      "execution_count": 1,
      "outputs": []
    },
    {
      "cell_type": "code",
      "metadata": {
        "id": "bqoICSQzkp94"
      },
      "source": [
        "import nltk.tag.hmm as hm\n",
        "import re"
      ],
      "execution_count": 2,
      "outputs": []
    },
    {
      "cell_type": "code",
      "metadata": {
        "id": "XbgaQ-q5kp97"
      },
      "source": [
        "def demo_pos():\n",
        "    # demonstrates POS tagging using supervised training\n",
        " \n",
        "    print()\n",
        "    print('HMM POS tagging demo')\n",
        "    print()\n",
        " \n",
        "    print('Training HMM...')\n",
        "    labelled_sequences, tag_set, symbols = load_pos(20000)\n",
        "    trainer = hm.HiddenMarkovModelTrainer(tag_set, symbols)\n",
        "    hmm = trainer.train_supervised(labelled_sequences[10:],\n",
        "    estimator=lambda fd, bins: hm.LidstoneProbDist(fd, 0.1, bins))\n",
        " \n",
        "    print('Testing...')\n",
        "    hmm.test(labelled_sequences[:10], verbose=True)"
      ],
      "execution_count": 3,
      "outputs": []
    },
    {
      "cell_type": "code",
      "metadata": {
        "id": "ociQDKPkkp99"
      },
      "source": [
        "def load_pos(num_sents):\n",
        "    from nltk.corpus import brown\n",
        " \n",
        "    sentences = brown.tagged_sents(categories='news')[:num_sents]\n",
        " \n",
        "    tag_re = re.compile(r'[*]|--|[^+*-]+')\n",
        "    tag_set = set()\n",
        "    symbols = set()\n",
        " \n",
        "    cleaned_sentences = []\n",
        "    for sentence in sentences:\n",
        "        for i in range(len(sentence)):\n",
        "            word, tag = sentence[i]\n",
        "            word = word.lower() # normalize\n",
        "            symbols.add(word) # log this word\n",
        "            # Clean up the tag.\n",
        "            tag = tag_re.match(tag).group()\n",
        "            tag_set.add(tag)\n",
        "            sentence[i] = (word, tag) # store cleaned-up tagged token\n",
        "        cleaned_sentences += [sentence]\n",
        " \n",
        "    return cleaned_sentences, list(tag_set), list(symbols)"
      ],
      "execution_count": 4,
      "outputs": []
    },
    {
      "cell_type": "code",
      "metadata": {
        "id": "onyYLrhnkp9-",
        "outputId": "d3232ae8-2ef8-4bb2-b408-382c89406c05"
      },
      "source": [
        "demo_pos()"
      ],
      "execution_count": null,
      "outputs": [
        {
          "output_type": "stream",
          "text": [
            "\n",
            "HMM POS tagging demo\n",
            "\n",
            "Training HMM...\n",
            "Testing...\n",
            "Test: the/AT fulton/NP county/NN grand/JJ jury/NN said/VBD friday/NR an/AT investigation/NN of/IN atlanta's/NP$ recent/JJ primary/NN election/NN produced/VBD ``/`` no/AT evidence/NN ''/'' that/CS any/DTI irregularities/NNS took/VBD place/NN ./.\n",
            "\n",
            "Untagged: the fulton county grand jury said friday an investigation of atlanta's recent primary election produced `` no evidence '' that any irregularities took place .\n",
            "\n",
            "HMM-tagged: the/AT fulton/NP county/NN grand/JJ jury/NN said/VBD friday/NR an/AT investigation/NN of/IN atlanta's/NP$ recent/JJ primary/NN election/NN produced/VBD ``/`` no/AT evidence/NN ''/'' that/CS any/DTI irregularities/NNS took/VBD place/NN ./.\n",
            "\n",
            "Entropy: 18.73317397045442\n",
            "\n",
            "------------------------------------------------------------\n",
            "Test: the/AT jury/NN further/RBR said/VBD in/IN term-end/NN presentments/NNS that/CS the/AT city/NN executive/JJ committee/NN ,/, which/WDT had/HVD over-all/JJ charge/NN of/IN the/AT election/NN ,/, ``/`` deserves/VBZ the/AT praise/NN and/CC thanks/NNS of/IN the/AT city/NN of/IN atlanta/NP ''/'' for/IN the/AT manner/NN in/IN which/WDT the/AT election/NN was/BEDZ conducted/VBN ./.\n",
            "\n",
            "Untagged: the jury further said in term-end presentments that the city executive committee , which had over-all charge of the election , `` deserves the praise and thanks of the city of atlanta '' for the manner in which the election was conducted .\n",
            "\n",
            "HMM-tagged: the/AT jury/NN further/RBR said/VBD in/IN term-end/AT presentments/NN that/CS the/AT city/NN executive/NN committee/NN ,/, which/WDT had/HVD over-all/VBN charge/NN of/IN the/AT election/NN ,/, ``/`` deserves/VBZ the/AT praise/NN and/CC thanks/NNS of/IN the/AT city/NN of/IN atlanta/NP ''/'' for/IN the/AT manner/NN in/IN which/WDT the/AT election/NN was/BEDZ conducted/VBN ./.\n",
            "\n",
            "Entropy: 27.070872551870238\n",
            "\n",
            "------------------------------------------------------------\n",
            "Test: the/AT september-october/NP term/NN jury/NN had/HVD been/BEN charged/VBN by/IN fulton/NP superior/JJ court/NN judge/NN durwood/NP pye/NP to/TO investigate/VB reports/NNS of/IN possible/JJ ``/`` irregularities/NNS ''/'' in/IN the/AT hard-fought/JJ primary/NN which/WDT was/BEDZ won/VBN by/IN mayor-nominate/NN ivan/NP allen/NP jr./NP ./.\n",
            "\n",
            "Untagged: the september-october term jury had been charged by fulton superior court judge durwood pye to investigate reports of possible `` irregularities '' in the hard-fought primary which was won by mayor-nominate ivan allen jr. .\n",
            "\n",
            "HMM-tagged: the/AT september-october/JJ term/NN jury/NN had/HVD been/BEN charged/VBN by/IN fulton/NP superior/JJ court/NN judge/NN durwood/TO pye/VB to/TO investigate/VB reports/NNS of/IN possible/JJ ``/`` irregularities/NNS ''/'' in/IN the/AT hard-fought/JJ primary/NN which/WDT was/BEDZ won/VBN by/IN mayor-nominate/NP ivan/NP allen/NP jr./NP ./.\n",
            "\n",
            "Entropy: 33.82818742372783\n",
            "\n",
            "------------------------------------------------------------\n",
            "Test: ``/`` only/RB a/AT relative/JJ handful/NN of/IN such/JJ reports/NNS was/BEDZ received/VBN ''/'' ,/, the/AT jury/NN said/VBD ,/, ``/`` considering/IN the/AT widespread/JJ interest/NN in/IN the/AT election/NN ,/, the/AT number/NN of/IN voters/NNS and/CC the/AT size/NN of/IN this/DT city/NN ''/'' ./.\n",
            "\n",
            "Untagged: `` only a relative handful of such reports was received '' , the jury said , `` considering the widespread interest in the election , the number of voters and the size of this city '' .\n",
            "\n",
            "HMM-tagged: ``/`` only/RB a/AT relative/JJ handful/NN of/IN such/JJ reports/NNS was/BEDZ received/VBN ''/'' ,/, the/AT jury/NN said/VBD ,/, ``/`` considering/IN the/AT widespread/JJ interest/NN in/IN the/AT election/NN ,/, the/AT number/NN of/IN voters/NNS and/CC the/AT size/NN of/IN this/DT city/NN ''/'' ./.\n",
            "\n",
            "Entropy: 11.437819859632521\n",
            "\n",
            "------------------------------------------------------------\n",
            "Test: the/AT jury/NN said/VBD it/PPS did/DOD find/VB that/CS many/AP of/IN georgia's/NP$ registration/NN and/CC election/NN laws/NNS ``/`` are/BER outmoded/JJ or/CC inadequate/JJ and/CC often/RB ambiguous/JJ ''/'' ./.\n",
            "\n",
            "Untagged: the jury said it did find that many of georgia's registration and election laws `` are outmoded or inadequate and often ambiguous '' .\n",
            "\n",
            "HMM-tagged: the/AT jury/NN said/VBD it/PPS did/DOD find/VB that/CS many/AP of/IN georgia's/NP$ registration/NN and/CC election/NN laws/NNS ``/`` are/BER outmoded/VBG or/CC inadequate/JJ and/CC often/RB ambiguous/VB ''/'' ./.\n",
            "\n",
            "Entropy: 20.816362319184023\n",
            "\n",
            "------------------------------------------------------------\n",
            "Test: it/PPS recommended/VBD that/CS fulton/NP legislators/NNS act/VB ``/`` to/TO have/HV these/DTS laws/NNS studied/VBN and/CC revised/VBN to/IN the/AT end/NN of/IN modernizing/VBG and/CC improving/VBG them/PPO ''/'' ./.\n",
            "\n",
            "Untagged: it recommended that fulton legislators act `` to have these laws studied and revised to the end of modernizing and improving them '' .\n",
            "\n",
            "HMM-tagged: it/PPS recommended/VBD that/CS fulton/NP legislators/NNS act/VB ``/`` to/TO have/HV these/DTS laws/NNS studied/VBD and/CC revised/VBD to/IN the/AT end/NN of/IN modernizing/NP and/CC improving/VBG them/PPO ''/'' ./.\n",
            "\n",
            "Entropy: 20.324492120324628\n",
            "\n",
            "------------------------------------------------------------\n",
            "Test: the/AT grand/JJ jury/NN commented/VBD on/IN a/AT number/NN of/IN other/AP topics/NNS ,/, among/IN them/PPO the/AT atlanta/NP and/CC fulton/NP county/NN purchasing/VBG departments/NNS which/WDT it/PPS said/VBD ``/`` are/BER well/QL operated/VBN and/CC follow/VB generally/RB accepted/VBN practices/NNS which/WDT inure/VB to/IN the/AT best/JJT interest/NN of/IN both/ABX governments/NNS ''/'' ./.\n",
            "\n",
            "Untagged: the grand jury commented on a number of other topics , among them the atlanta and fulton county purchasing departments which it said `` are well operated and follow generally accepted practices which inure to the best interest of both governments '' .\n",
            "\n",
            "HMM-tagged: the/AT grand/JJ jury/NN commented/VBD on/IN a/AT number/NN of/IN other/AP topics/NNS ,/, among/IN them/PPO the/AT atlanta/NP and/CC fulton/NP county/NN purchasing/NN departments/NNS which/WDT it/PPS said/VBD ``/`` are/BER well/RB operated/VBN and/CC follow/VB generally/RB accepted/VBN practices/NNS which/WDT inure/VBZ to/IN the/AT best/JJT interest/NN of/IN both/ABX governments/NNS ''/'' ./.\n",
            "\n",
            "Entropy: 31.383423146866793\n",
            "\n",
            "------------------------------------------------------------\n",
            "Test: merger/NN proposed/VBN\n",
            "\n",
            "Untagged: merger proposed\n",
            "\n",
            "HMM-tagged: merger/PPS proposed/VBD\n",
            "\n",
            "Entropy: 5.671820394600894\n",
            "\n",
            "------------------------------------------------------------\n",
            "Test: however/WRB ,/, the/AT jury/NN said/VBD it/PPS believes/VBZ ``/`` these/DTS two/CD offices/NNS should/MD be/BE combined/VBN to/TO achieve/VB greater/JJR efficiency/NN and/CC reduce/VB the/AT cost/NN of/IN administration/NN ''/'' ./.\n",
            "\n",
            "Untagged: however , the jury said it believes `` these two offices should be combined to achieve greater efficiency and reduce the cost of administration '' .\n",
            "\n",
            "HMM-tagged: however/WRB ,/, the/AT jury/NN said/VBD it/PPS believes/VBZ ``/`` these/DTS two/CD offices/NNS should/MD be/BE combined/VBN to/TO achieve/VB greater/JJR efficiency/NN and/CC reduce/VB the/AT cost/NN of/IN administration/NN ''/'' ./.\n",
            "\n",
            "Entropy: 8.275459439085184\n",
            "\n",
            "------------------------------------------------------------\n",
            "Test: the/AT city/NN purchasing/VBG department/NN ,/, the/AT jury/NN said/VBD ,/, ``/`` is/BEZ lacking/VBG in/IN experienced/VBN clerical/JJ personnel/NNS as/CS a/AT result/NN of/IN city/NN personnel/NNS policies/NNS ''/'' ./.\n",
            "\n",
            "Untagged: the city purchasing department , the jury said , `` is lacking in experienced clerical personnel as a result of city personnel policies '' .\n",
            "\n",
            "HMM-tagged: the/AT city/NN purchasing/NN department/NN ,/, the/AT jury/NN said/VBD ,/, ``/`` is/BEZ lacking/VBG in/IN experienced/AT clerical/JJ personnel/NNS as/CS a/AT result/NN of/IN city/NN personnel/NNS policies/NNS ''/'' ./.\n",
            "\n",
            "Entropy: 16.762253727845465\n",
            "\n",
            "------------------------------------------------------------\n",
            "accuracy over 284 tokens: 92.96\n"
          ],
          "name": "stdout"
        }
      ]
    },
    {
      "cell_type": "code",
      "metadata": {
        "id": "i4Q0O5s2kp-A"
      },
      "source": [
        ""
      ],
      "execution_count": null,
      "outputs": []
    }
  ]
}