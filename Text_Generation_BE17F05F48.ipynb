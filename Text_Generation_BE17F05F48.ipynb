{
  "nbformat": 4,
  "nbformat_minor": 0,
  "metadata": {
    "colab": {
      "name": "Text Generation.ipynb",
      "provenance": [],
      "collapsed_sections": []
    },
    "kernelspec": {
      "name": "python3",
      "display_name": "Python 3"
    },
    "accelerator": "GPU"
  },
  "cells": [
    {
      "cell_type": "code",
      "metadata": {
        "id": "Vig5dDP-2Up2",
        "outputId": "f2ea8554-228d-4c4a-fea0-6f928c6eba2f",
        "colab": {
          "base_uri": "https://localhost:8080/"
        }
      },
      "source": [
        "# !rm * -f\r\n",
        "!git clone https://github.com/coderelay2020/nlp-practicals.git "
      ],
      "execution_count": 77,
      "outputs": [
        {
          "output_type": "stream",
          "text": [
            "fatal: destination path 'nlp-practicals' already exists and is not an empty directory.\n"
          ],
          "name": "stdout"
        }
      ]
    },
    {
      "cell_type": "code",
      "metadata": {
        "id": "r0dPqZKmyQIj"
      },
      "source": [
        "'''\n",
        "Author :Ashutosh S Punyani\n",
        "'''\n",
        "\n",
        "import numpy\n",
        "from keras.models import Sequential\n",
        "from keras.layers import Dense\n",
        "from keras.layers import Dropout\n",
        "from keras.layers import LSTM\n",
        "from keras.callbacks import ModelCheckpoint\n",
        "from keras.utils import np_utils\n",
        "import base64\n",
        "import requests"
      ],
      "execution_count": 79,
      "outputs": []
    },
    {
      "cell_type": "code",
      "metadata": {
        "id": "6qr_eSsu3QCp"
      },
      "source": [
        "\n",
        "# load ascii text and covert to lowercase\n",
        "filename = \"nlp-practicals/wonderland.txt\"\n",
        "raw_text = open(filename, 'r', encoding='utf-8').read()\n",
        "# raw_text=requests.get(filename)\n",
        "raw_text = raw_text.lower()"
      ],
      "execution_count": 80,
      "outputs": []
    },
    {
      "cell_type": "code",
      "metadata": {
        "id": "spy-l8jq3-lV"
      },
      "source": [
        "# create mapping of unique chars to integers\n",
        "chars = sorted(list(set(raw_text)))\n",
        "char_to_int = dict((c, i) for i, c in enumerate(chars))"
      ],
      "execution_count": 81,
      "outputs": []
    },
    {
      "cell_type": "code",
      "metadata": {
        "id": "jDDDwFKD4bW4",
        "colab": {
          "base_uri": "https://localhost:8080/"
        },
        "outputId": "4cce5656-e02e-4b7e-b7e6-46c174cf2892"
      },
      "source": [
        "n_chars = len(raw_text)\n",
        "n_vocab = len(chars)\n",
        "print( \"Total Characters: \", n_chars)\n",
        "print(\"Total Vocab: \", n_vocab)"
      ],
      "execution_count": 82,
      "outputs": [
        {
          "output_type": "stream",
          "text": [
            "Total Characters:  163182\n",
            "Total Vocab:  57\n"
          ],
          "name": "stdout"
        }
      ]
    },
    {
      "cell_type": "code",
      "metadata": {
        "id": "KLARuTVR4hnW",
        "colab": {
          "base_uri": "https://localhost:8080/"
        },
        "outputId": "2f3ac065-f8ca-4e8b-f3d0-01d68217cc5e"
      },
      "source": [
        "# prepare the dataset of input to output pairs encoded as integers\n",
        "seq_length = 100\n",
        "dataX = []\n",
        "dataY = []\n",
        "for i in range(0, n_chars - seq_length, 1):\n",
        "\tseq_in = raw_text[i:i + seq_length]\n",
        "\tseq_out = raw_text[i + seq_length]\n",
        "\tdataX.append([char_to_int[char] for char in seq_in])\n",
        "\tdataY.append(char_to_int[seq_out])\n",
        "n_patterns = len(dataX)\n",
        "print (\"Total Patterns: \", n_patterns)"
      ],
      "execution_count": 83,
      "outputs": [
        {
          "output_type": "stream",
          "text": [
            "Total Patterns:  163082\n"
          ],
          "name": "stdout"
        }
      ]
    },
    {
      "cell_type": "code",
      "metadata": {
        "id": "dM5ZJxsh40ED"
      },
      "source": [
        "\n",
        "# reshape X to be [samples, time steps, features]\n",
        "X = numpy.reshape(dataX, (n_patterns, seq_length, 1))\n",
        "# normalize\n",
        "X = X / float(n_vocab)\n",
        "# one hot encode the output variable\n",
        "y = np_utils.to_categorical(dataY)"
      ],
      "execution_count": 84,
      "outputs": []
    },
    {
      "cell_type": "code",
      "metadata": {
        "id": "xOkGeNGU5Hz0"
      },
      "source": [
        "\n",
        "# define the LSTM model\n",
        "model = Sequential()\n",
        "model.add(LSTM(256, input_shape=(X.shape[1], X.shape[2])))\n",
        "model.add(Dropout(0.2))\n",
        "model.add(Dense(y.shape[1], activation='softmax'))\n",
        "model.compile(loss='categorical_crossentropy', optimizer='adam')"
      ],
      "execution_count": 85,
      "outputs": []
    },
    {
      "cell_type": "code",
      "metadata": {
        "id": "cWLYD2P75OKF"
      },
      "source": [
        "# define the checkpoint\n",
        "filepath=\"weights-improvement-{epoch:02d}-{loss:.4f}.hdf5\"\n",
        "checkpoint = ModelCheckpoint(filepath, monitor='loss', verbose=1, save_best_only=True, mode='min')\n",
        "callbacks_list = [checkpoint]"
      ],
      "execution_count": 86,
      "outputs": []
    },
    {
      "cell_type": "code",
      "metadata": {
        "id": "aY-T9xcZ5TbF",
        "colab": {
          "base_uri": "https://localhost:8080/"
        },
        "outputId": "20600983-e90d-45cf-e4ba-7e7db175cb06"
      },
      "source": [
        "model.fit(X, y, epochs=5, batch_size=128, callbacks=callbacks_list)"
      ],
      "execution_count": 87,
      "outputs": [
        {
          "output_type": "stream",
          "text": [
            "Epoch 1/5\n",
            "1275/1275 [==============================] - 19s 14ms/step - loss: 3.0611\n",
            "\n",
            "Epoch 00001: loss improved from inf to 2.96550, saving model to weights-improvement-01-2.9655.hdf5\n",
            "Epoch 2/5\n",
            "1275/1275 [==============================] - 18s 14ms/step - loss: 2.8174\n",
            "\n",
            "Epoch 00002: loss improved from 2.96550 to 2.79288, saving model to weights-improvement-02-2.7929.hdf5\n",
            "Epoch 3/5\n",
            "1275/1275 [==============================] - 18s 14ms/step - loss: 2.7310\n",
            "\n",
            "Epoch 00003: loss improved from 2.79288 to 2.71516, saving model to weights-improvement-03-2.7152.hdf5\n",
            "Epoch 4/5\n",
            "1275/1275 [==============================] - 18s 14ms/step - loss: 2.6633\n",
            "\n",
            "Epoch 00004: loss improved from 2.71516 to 2.64730, saving model to weights-improvement-04-2.6473.hdf5\n",
            "Epoch 5/5\n",
            "1275/1275 [==============================] - 18s 14ms/step - loss: 2.6038\n",
            "\n",
            "Epoch 00005: loss improved from 2.64730 to 2.59179, saving model to weights-improvement-05-2.5918.hdf5\n"
          ],
          "name": "stdout"
        },
        {
          "output_type": "execute_result",
          "data": {
            "text/plain": [
              "<tensorflow.python.keras.callbacks.History at 0x7f6410a43128>"
            ]
          },
          "metadata": {
            "tags": []
          },
          "execution_count": 87
        }
      ]
    },
    {
      "cell_type": "code",
      "metadata": {
        "id": "qo772QnY5X0f"
      },
      "source": [
        "# load the network weights\n",
        "# filename = \"weights-improvement-20-2.1113.hdf5\"\n",
        "# model.load_weights(filename)\n",
        "# model.compile(loss='categorical_crossentropy', optimizer='adam')"
      ],
      "execution_count": null,
      "outputs": []
    },
    {
      "cell_type": "code",
      "metadata": {
        "id": "Wh5EKKT58n5N"
      },
      "source": [
        "int_to_char = dict((i, c) for i, c in enumerate(chars))"
      ],
      "execution_count": 88,
      "outputs": []
    },
    {
      "cell_type": "code",
      "metadata": {
        "id": "LJoFJplV9RAI",
        "colab": {
          "base_uri": "https://localhost:8080/"
        },
        "outputId": "3dad6fa8-44da-4953-fad5-9f4b6155d9b3"
      },
      "source": [
        "# pick a random seed\n",
        "total=\"\"\n",
        "start = numpy.random.randint(0, len(dataX)-1)\n",
        "pattern = dataX[start]\n",
        "print (\"Seed:\")\n",
        "print (\"\\\"\", ''.join([int_to_char[value] for value in pattern]), \"\\\"\")\n",
        "# generate characters\n",
        "for i in range(1000):\n",
        "\tx = numpy.reshape(pattern, (1, len(pattern), 1))\n",
        "\tx = x / float(n_vocab)\n",
        "\tprediction = model.predict(x, verbose=0)\n",
        "\tindex = numpy.argmax(prediction)\n",
        "\tresult = int_to_char[index]\n",
        "\ttotal += int_to_char[index]\n",
        "\tseq_in = [int_to_char[value] for value in pattern]\n",
        "\t# print(result,end=\"\\n\")\n",
        "  # total+=result\n",
        "\tpattern.append(index)\n",
        "\tpattern = pattern[1:len(pattern)]\n",
        "print(total)\n",
        "print (\"\\nDone.\")"
      ],
      "execution_count": 94,
      "outputs": [
        {
          "output_type": "stream",
          "text": [
            "Seed:\n",
            "\"  first was in managing her flamingo:\n",
            "she succeeded in getting its body tucked away, comfortably enou \"\n",
            "eet on the soree to the toee to the toee th the woee to the toee th the woee to the toee th the woee to the toee th the woee to the toee th the woee to the toee th the woee to the toee th the woee to the toee th the woee to the toee th the woee to the toee th the woee to the toee th the woee to the toee th the woee to the toee th the woee to the toee th the woee to the toee th the woee to the toee th the woee to the toee th the woee to the toee th the woee to the toee th the woee to the toee th the woee to the toee th the woee to the toee th the woee to the toee th the woee to the toee th the woee to the toee th the woee to the toee th the woee to the toee th the woee to the toee th the woee to the toee th the woee to the toee th the woee to the toee th the woee to the toee th the woee to the toee th the woee to the toee th the woee to the toee th the woee to the toee th the woee to the toee th the woee to the toee th the woee to the toee th the woee to the toee th the woee to the toee\n",
            "\n",
            "Done.\n"
          ],
          "name": "stdout"
        }
      ]
    },
    {
      "cell_type": "code",
      "metadata": {
        "id": "PelCdWTa9XHz"
      },
      "source": [
        ""
      ],
      "execution_count": null,
      "outputs": []
    }
  ]
}