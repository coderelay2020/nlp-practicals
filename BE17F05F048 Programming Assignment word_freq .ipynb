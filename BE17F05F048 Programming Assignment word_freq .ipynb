{
  "nbformat": 4,
  "nbformat_minor": 0,
  "metadata": {
    "colab": {
      "name": "Nltk Brown Corpus Frequency Finder.ipynb",
      "provenance": []
    },
    "kernelspec": {
      "name": "python3",
      "display_name": "Python 3"
    }
  },
  "cells": [
    {
      "cell_type": "code",
      "metadata": {
        "id": "H6TW_P3ag_Zu",
        "colab_type": "code",
        "colab": {
          "base_uri": "https://localhost:8080/",
          "height": 54
        },
        "outputId": "800f22c5-6078-4fd0-8f55-dc4b679a6543"
      },
      "source": [
        "import nltk\n",
        "import random\n",
        "nltk.download('brown')\n",
        "from nltk.corpus import brown"
      ],
      "execution_count": 31,
      "outputs": [
        {
          "output_type": "stream",
          "text": [
            "[nltk_data] Downloading package brown to /root/nltk_data...\n",
            "[nltk_data]   Package brown is already up-to-date!\n"
          ],
          "name": "stdout"
        }
      ]
    },
    {
      "cell_type": "code",
      "metadata": {
        "id": "YbnMpcQRL8eM",
        "colab_type": "code",
        "colab": {}
      },
      "source": [
        "def word_freq(word, genre):\n",
        "    fd = nltk.FreqDist(brown.words(categories=genre))\n",
        "    return fd[word]"
      ],
      "execution_count": 32,
      "outputs": []
    },
    {
      "cell_type": "code",
      "metadata": {
        "id": "nX17aVaTVJO8",
        "colab_type": "code",
        "colab": {
          "base_uri": "https://localhost:8080/",
          "height": 900
        },
        "outputId": "86e0b15b-46a4-4516-9dda-e694b98606ea"
      },
      "source": [
        "print(\"Categories : \")\n",
        "print(brown.categories())\n",
        "for i in brown.categories():\n",
        "  # print(i)\n",
        "  # print(brown.words(categories=i))\n",
        "  # print(len(brown.words(categories=i)))\n",
        "  # print(random.randint(1,len(brown.words(categories=i))))\n",
        "  category=i\n",
        "  print(\" Category: \" + category)\n",
        "  wordu=brown.words(categories=i)[random.randint(1,len(brown.words(categories=i)))]\n",
        "  print(\" Word: \" + wordu)\n",
        "  # print(type(wordu))\n",
        "  # print(type(category))\n",
        "  # print(type(word_freq(wordu, category)))\n",
        "  print(\"Category: \" + category + \" Word: \" + wordu + \" Frequency: \" + str(word_freq(wordu, category)) + \" .\")"
      ],
      "execution_count": 37,
      "outputs": [
        {
          "output_type": "stream",
          "text": [
            "Categories : \n",
            "['adventure', 'belles_lettres', 'editorial', 'fiction', 'government', 'hobbies', 'humor', 'learned', 'lore', 'mystery', 'news', 'religion', 'reviews', 'romance', 'science_fiction']\n",
            " Category: adventure\n",
            " Word: removed\n",
            "Category: adventure Word: removed Frequency: 3 .\n",
            " Category: belles_lettres\n",
            " Word: ,\n",
            "Category: belles_lettres Word: , Frequency: 9166 .\n",
            " Category: editorial\n",
            " Word: merely\n",
            "Category: editorial Word: merely Frequency: 11 .\n",
            " Category: fiction\n",
            " Word: nursery\n",
            "Category: fiction Word: nursery Frequency: 2 .\n",
            " Category: government\n",
            " Word: necessary\n",
            "Category: government Word: necessary Frequency: 46 .\n",
            " Category: hobbies\n",
            " Word: many\n",
            "Category: hobbies Word: many Frequency: 110 .\n",
            " Category: humor\n",
            " Word: I\n",
            "Category: humor Word: I Frequency: 239 .\n",
            " Category: learned\n",
            " Word: recorded\n",
            "Category: learned Word: recorded Frequency: 15 .\n",
            " Category: lore\n",
            " Word: services\n",
            "Category: lore Word: services Frequency: 6 .\n",
            " Category: mystery\n",
            " Word: that\n",
            "Category: mystery Word: that Frequency: 494 .\n",
            " Category: news\n",
            " Word: in\n",
            "Category: news Word: in Frequency: 1893 .\n",
            " Category: religion\n",
            " Word: )\n",
            "Category: religion Word: ) Frequency: 127 .\n",
            " Category: reviews\n",
            " Word: by\n",
            "Category: reviews Word: by Frequency: 203 .\n",
            " Category: romance\n",
            " Word: ''\n",
            "Category: romance Word: '' Frequency: 1044 .\n",
            " Category: science_fiction\n",
            " Word: for\n",
            "Category: science_fiction Word: for Frequency: 92 .\n"
          ],
          "name": "stdout"
        }
      ]
    }
  ]
}