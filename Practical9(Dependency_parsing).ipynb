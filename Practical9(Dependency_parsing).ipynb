{
  "nbformat": 4,
  "nbformat_minor": 0,
  "metadata": {
    "kernelspec": {
      "display_name": "Python 3",
      "language": "python",
      "name": "python3"
    },
    "language_info": {
      "codemirror_mode": {
        "name": "ipython",
        "version": 3
      },
      "file_extension": ".py",
      "mimetype": "text/x-python",
      "name": "python",
      "nbconvert_exporter": "python",
      "pygments_lexer": "ipython3",
      "version": "3.7.1"
    },
    "colab": {
      "name": "Practical9(Dependency parsing).ipynb",
      "provenance": []
    }
  },
  "cells": [
    {
      "cell_type": "code",
      "metadata": {
        "id": "5tZla9_Gmmkh"
      },
      "source": [
        "import spacy \n",
        "nlp = spacy.load(\"en_core_web_sm\")\n",
        "from collections import Counter"
      ],
      "execution_count": 2,
      "outputs": []
    },
    {
      "cell_type": "code",
      "metadata": {
        "id": "nHSDQ0m3mmkm"
      },
      "source": [
        "document = open(\"data.txt\", encoding=\"utf8\").read()\n",
        "document = nlp(document)"
      ],
      "execution_count": 3,
      "outputs": []
    },
    {
      "cell_type": "code",
      "metadata": {
        "id": "_3z27hOxmmko"
      },
      "source": [
        "hotel = [sent for sent in document.sents if 'hotel' in sent.string.lower()]"
      ],
      "execution_count": 4,
      "outputs": []
    },
    {
      "cell_type": "code",
      "metadata": {
        "id": "aSFkEy8Hmmkr",
        "outputId": "e54b973a-083a-4e2c-f21a-13b80c678561",
        "colab": {
          "base_uri": "https://localhost:8080/"
        }
      },
      "source": [
        "hotel[2]"
      ],
      "execution_count": 5,
      "outputs": [
        {
          "output_type": "execute_result",
          "data": {
            "text/plain": [
              "A cab from the airport to the hotel can be cheaper than the shuttles depending what time of the day you go."
            ]
          },
          "metadata": {
            "tags": []
          },
          "execution_count": 5
        }
      ]
    },
    {
      "cell_type": "code",
      "metadata": {
        "id": "XXKIxjMBmmku",
        "outputId": "453c2461-ce6e-4098-c0a9-6a6189d641fb",
        "colab": {
          "base_uri": "https://localhost:8080/"
        }
      },
      "source": [
        "sentence = hotel[2] \n",
        "for word in sentence:\n",
        "    print (word, ': ', str(list(word.children)))"
      ],
      "execution_count": 6,
      "outputs": [
        {
          "output_type": "stream",
          "text": [
            "A :  []\n",
            "cab :  [A, from, to]\n",
            "from :  [airport]\n",
            "the :  []\n",
            "airport :  [the]\n",
            "to :  [hotel]\n",
            "the :  []\n",
            "hotel :  [the]\n",
            "can :  []\n",
            "be :  [cab, can, cheaper, depending, .]\n",
            "cheaper :  [than]\n",
            "than :  [shuttles]\n",
            "the :  []\n",
            "shuttles :  [the]\n",
            "depending :  [time]\n",
            "what :  []\n",
            "time :  [what, of]\n",
            "of :  [day]\n",
            "the :  []\n",
            "day :  [the, go]\n",
            "you :  []\n",
            "go :  [you]\n",
            ". :  []\n"
          ],
          "name": "stdout"
        }
      ]
    },
    {
      "cell_type": "code",
      "metadata": {
        "id": "XEo2VXT3mmkv"
      },
      "source": [
        "def pos_words (sentence, token, ptag):\n",
        "    sentences = [sent for sent in sentence.sents if token in sent.string]     \n",
        "    pwrds = []\n",
        "    for sent in sentences:\n",
        "        for word in sent:\n",
        "            if token in word.string: \n",
        "                   pwrds.extend([child.string.strip() for child in word.children\n",
        "                                                      if child.pos_ == ptag] )\n",
        "    return Counter(pwrds).most_common(10)"
      ],
      "execution_count": 7,
      "outputs": []
    },
    {
      "cell_type": "code",
      "metadata": {
        "id": "X9VIL4-6mmkx",
        "outputId": "33cded85-50cb-4a14-f1c4-25ff91160867",
        "colab": {
          "base_uri": "https://localhost:8080/"
        }
      },
      "source": [
        "pos_words(document, 'hotel', \"ADJ\")"
      ],
      "execution_count": 8,
      "outputs": [
        {
          "output_type": "execute_result",
          "data": {
            "text/plain": [
              "[('other', 19),\n",
              " ('great', 10),\n",
              " ('good', 8),\n",
              " ('nice', 6),\n",
              " ('better', 6),\n",
              " ('different', 6),\n",
              " ('Nice', 5),\n",
              " ('many', 5),\n",
              " ('best', 4),\n",
              " ('wonderful', 3)]"
            ]
          },
          "metadata": {
            "tags": []
          },
          "execution_count": 8
        }
      ]
    },
    {
      "cell_type": "code",
      "metadata": {
        "id": "fl8W8nBxmmky"
      },
      "source": [
        ""
      ],
      "execution_count": 8,
      "outputs": []
    }
  ]
}