{
  "nbformat": 4,
  "nbformat_minor": 0,
  "metadata": {
    "colab": {
      "name": "Practical2.ipynb",
      "provenance": [],
      "collapsed_sections": []
    },
    "kernelspec": {
      "display_name": "Python 3",
      "language": "python",
      "name": "python3"
    },
    "language_info": {
      "codemirror_mode": {
        "name": "ipython",
        "version": 3
      },
      "file_extension": ".py",
      "mimetype": "text/x-python",
      "name": "python",
      "nbconvert_exporter": "python",
      "pygments_lexer": "ipython3",
      "version": "3.7.3"
    }
  },
  "cells": [
    {
      "cell_type": "code",
      "metadata": {
        "colab": {
          "base_uri": "https://localhost:8080/"
        },
        "id": "SLIlne8c-dkP",
        "outputId": "5c432a7c-a928-4e5e-f569-d1b1f14657ce"
      },
      "source": [
        "# Harshad Shete BE17F05F044\n",
        "\n",
        "import nltk \n",
        "import numpy as np\n",
        "import random \n",
        "import string \n",
        "import bs4 as bs\n",
        "import urllib.request\n",
        "import re\n",
        "\n",
        "raw_html = urllib.request.urlopen('https://en.wikipedia.org/wiki/Tennis')\n",
        "raw_html = raw_html.read()\n",
        "article_html = bs.BeautifulSoup(raw_html, 'html.parser')\n",
        "\n",
        "article_paragraphs = article_html.find_all('p') \n",
        "article_text = ''\n",
        "\n",
        "for para in article_paragraphs: \n",
        "  article_text += para.text\n",
        "\n",
        "article_text = article_text.lower() \n",
        "article_text = re.sub(r'[^A-Za-z. ]','', article_text)\n",
        "\n",
        "ngrams = {}\n",
        "chars = 4\n",
        "\n",
        "\n",
        "for i in range(len(article_text)-chars):\n",
        "  seq = article_text[i:i+chars] \n",
        "  # print(seq)\n",
        "  if seq not in ngrams.keys():\n",
        "    ngrams[seq] = []\n",
        "  ngrams[seq].append(article_text[i+chars])\n",
        "  \n",
        "\n",
        "    \n",
        "  \n",
        "\n",
        "\n",
        "\n",
        "curr_sequence = article_text[0:chars]\n",
        "output = curr_sequence\n",
        "\n",
        "\n",
        "for i in range(200):\n",
        "  if curr_sequence not in ngrams.keys(): \n",
        "    break\n",
        "  possible_chars = ngrams[curr_sequence]\n",
        "  next_char = possible_chars[random.randrange(len(possible_chars))]\n",
        "  output += next_char\n",
        "  curr_sequence = output[len(output)-chars:len(output)]\n",
        "\n",
        "\n",
        "print(output)\n"
      ],
      "execution_count": 1,
      "outputs": [
        {
          "output_type": "stream",
          "text": [
            "tennis on they and for player europeratedly to the than his over living upon the thenopen era party of lawn tennis assi was bound through at the receiver and junior tennis was eights tournaments.in  to th\n"
          ],
          "name": "stdout"
        }
      ]
    },
    {
      "cell_type": "code",
      "metadata": {
        "id": "phuju79KjC1B"
      },
      "source": [
        ""
      ],
      "execution_count": null,
      "outputs": []
    }
  ]
}