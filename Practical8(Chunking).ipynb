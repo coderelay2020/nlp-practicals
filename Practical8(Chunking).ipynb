{
  "nbformat": 4,
  "nbformat_minor": 0,
  "metadata": {
    "kernelspec": {
      "display_name": "Python 3",
      "language": "python",
      "name": "python3"
    },
    "language_info": {
      "codemirror_mode": {
        "name": "ipython",
        "version": 3
      },
      "file_extension": ".py",
      "mimetype": "text/x-python",
      "name": "python",
      "nbconvert_exporter": "python",
      "pygments_lexer": "ipython3",
      "version": "3.7.1"
    },
    "colab": {
      "name": "Practical8(Chunking).ipynb",
      "provenance": []
    }
  },
  "cells": [
    {
      "cell_type": "code",
      "metadata": {
        "id": "INSINiI4mBTw",
        "outputId": "4282dd5c-2d75-4917-99d1-e2d4b0cf34e9",
        "colab": {
          "base_uri": "https://localhost:8080/"
        }
      },
      "source": [
        "import nltk\r\n",
        "nltk.download('punkt')\r\n",
        "nltk.download('averaged_perceptron_tagger')"
      ],
      "execution_count": 7,
      "outputs": [
        {
          "output_type": "stream",
          "text": [
            "[nltk_data] Downloading package punkt to /root/nltk_data...\n",
            "[nltk_data]   Package punkt is already up-to-date!\n",
            "[nltk_data] Downloading package averaged_perceptron_tagger to\n",
            "[nltk_data]     /root/nltk_data...\n",
            "[nltk_data]   Unzipping taggers/averaged_perceptron_tagger.zip.\n"
          ],
          "name": "stdout"
        },
        {
          "output_type": "execute_result",
          "data": {
            "text/plain": [
              "True"
            ]
          },
          "metadata": {
            "tags": []
          },
          "execution_count": 7
        }
      ]
    },
    {
      "cell_type": "code",
      "metadata": {
        "id": "fJB7rDUumBT2"
      },
      "source": [
        "text = \"Washington, D.C., formally the District of Columbia and also known as D.C., is the capital city of the United States of America. Founded after the American Revolution, Washington was named for George Washington, the first president of the United States and a Founding Father.\""
      ],
      "execution_count": 8,
      "outputs": []
    },
    {
      "cell_type": "code",
      "metadata": {
        "id": "MZCw0XUqmBT5"
      },
      "source": [
        "words = nltk.word_tokenize(text)\n",
        "tagged = nltk.pos_tag(words)"
      ],
      "execution_count": 9,
      "outputs": []
    },
    {
      "cell_type": "code",
      "metadata": {
        "id": "aLApsoremBT8",
        "outputId": "6e24c553-84f8-48b1-9740-6a2fa93067bb",
        "colab": {
          "base_uri": "https://localhost:8080/"
        }
      },
      "source": [
        "tagged"
      ],
      "execution_count": 10,
      "outputs": [
        {
          "output_type": "execute_result",
          "data": {
            "text/plain": [
              "[('Washington', 'NNP'),\n",
              " (',', ','),\n",
              " ('D.C.', 'NNP'),\n",
              " (',', ','),\n",
              " ('formally', 'RB'),\n",
              " ('the', 'DT'),\n",
              " ('District', 'NNP'),\n",
              " ('of', 'IN'),\n",
              " ('Columbia', 'NNP'),\n",
              " ('and', 'CC'),\n",
              " ('also', 'RB'),\n",
              " ('known', 'VBN'),\n",
              " ('as', 'IN'),\n",
              " ('D.C.', 'NNP'),\n",
              " (',', ','),\n",
              " ('is', 'VBZ'),\n",
              " ('the', 'DT'),\n",
              " ('capital', 'NN'),\n",
              " ('city', 'NN'),\n",
              " ('of', 'IN'),\n",
              " ('the', 'DT'),\n",
              " ('United', 'NNP'),\n",
              " ('States', 'NNPS'),\n",
              " ('of', 'IN'),\n",
              " ('America', 'NNP'),\n",
              " ('.', '.'),\n",
              " ('Founded', 'VBN'),\n",
              " ('after', 'IN'),\n",
              " ('the', 'DT'),\n",
              " ('American', 'JJ'),\n",
              " ('Revolution', 'NNP'),\n",
              " (',', ','),\n",
              " ('Washington', 'NNP'),\n",
              " ('was', 'VBD'),\n",
              " ('named', 'VBN'),\n",
              " ('for', 'IN'),\n",
              " ('George', 'NNP'),\n",
              " ('Washington', 'NNP'),\n",
              " (',', ','),\n",
              " ('the', 'DT'),\n",
              " ('first', 'JJ'),\n",
              " ('president', 'NN'),\n",
              " ('of', 'IN'),\n",
              " ('the', 'DT'),\n",
              " ('United', 'NNP'),\n",
              " ('States', 'NNPS'),\n",
              " ('and', 'CC'),\n",
              " ('a', 'DT'),\n",
              " ('Founding', 'VBG'),\n",
              " ('Father', 'NNP'),\n",
              " ('.', '.')]"
            ]
          },
          "metadata": {
            "tags": []
          },
          "execution_count": 10
        }
      ]
    },
    {
      "cell_type": "code",
      "metadata": {
        "id": "souPliZemBT-"
      },
      "source": [
        "chunkGram = r\"\"\"\n",
        "  NP: {<DT>*<JJ>*<NNP>+}\n",
        "\"\"\"\n",
        "chunkParser = nltk.RegexpParser(chunkGram)\n",
        "chunked = chunkParser.parse(tagged)\n",
        "# chunked.draw()"
      ],
      "execution_count": 13,
      "outputs": []
    },
    {
      "cell_type": "code",
      "metadata": {
        "id": "EToV8f-kmBUA",
        "outputId": "38fa6b5a-0377-4ee8-98d5-77d01cafa9c0",
        "colab": {
          "base_uri": "https://localhost:8080/"
        }
      },
      "source": [
        "print(chunked)"
      ],
      "execution_count": 14,
      "outputs": [
        {
          "output_type": "stream",
          "text": [
            "(S\n",
            "  (NP Washington/NNP)\n",
            "  ,/,\n",
            "  (NP D.C./NNP)\n",
            "  ,/,\n",
            "  formally/RB\n",
            "  (NP the/DT District/NNP)\n",
            "  of/IN\n",
            "  (NP Columbia/NNP)\n",
            "  and/CC\n",
            "  also/RB\n",
            "  known/VBN\n",
            "  as/IN\n",
            "  (NP D.C./NNP)\n",
            "  ,/,\n",
            "  is/VBZ\n",
            "  the/DT\n",
            "  capital/NN\n",
            "  city/NN\n",
            "  of/IN\n",
            "  (NP the/DT United/NNP)\n",
            "  States/NNPS\n",
            "  of/IN\n",
            "  (NP America/NNP)\n",
            "  ./.\n",
            "  Founded/VBN\n",
            "  after/IN\n",
            "  (NP the/DT American/JJ Revolution/NNP)\n",
            "  ,/,\n",
            "  (NP Washington/NNP)\n",
            "  was/VBD\n",
            "  named/VBN\n",
            "  for/IN\n",
            "  (NP George/NNP Washington/NNP)\n",
            "  ,/,\n",
            "  the/DT\n",
            "  first/JJ\n",
            "  president/NN\n",
            "  of/IN\n",
            "  (NP the/DT United/NNP)\n",
            "  States/NNPS\n",
            "  and/CC\n",
            "  a/DT\n",
            "  Founding/VBG\n",
            "  (NP Father/NNP)\n",
            "  ./.)\n"
          ],
          "name": "stdout"
        }
      ]
    },
    {
      "cell_type": "code",
      "metadata": {
        "id": "-X-h5TgxmdhG"
      },
      "source": [
        ""
      ],
      "execution_count": null,
      "outputs": []
    }
  ]
}