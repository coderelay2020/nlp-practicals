{
  "nbformat": 4,
  "nbformat_minor": 0,
  "metadata": {
    "colab": {
      "name": "Practical 9-Dependency parsing using NLTK",
      "provenance": [],
      "collapsed_sections": []
    },
    "kernelspec": {
      "name": "python3",
      "display_name": "Python 3"
    }
  },
  "cells": [
    {
      "cell_type": "code",
      "metadata": {
        "colab": {
          "base_uri": "https://localhost:8080/"
        },
        "id": "PvZG4mqUNemG",
        "outputId": "f6d64053-cae9-405f-abb1-8032cbf82cde"
      },
      "source": [
        "import spacy\r\n",
        "from nltk import Tree\r\n",
        "\r\n",
        "\r\n",
        "en_nlp = spacy.load('en')\r\n",
        "\r\n",
        "doc = en_nlp(\"Modern humans arrived on the Indian subcontinent from Africa no later than 55,000 years ago. Their long occupation, initially in varying forms of isolation as hunter-gatherers, has made the region highly diverse, second only to Africa in human genetic diversity. Settled life emerged on the subcontinent in the western margins of the Indus river basin 9,000 years ago, evolving gradually into the Indus Valley Civilisation of the third millennium BCE. By 1200 BCE, an archaic form of Sanskrit, an Indo-European language, had diffused into India from the northwest, unfolding as the language of the Rigveda, and recording the dawning of Hinduism in India. The Dravidian languages of India were supplanted in the northern and western regions. By 400 BCE, stratification and exclusion by caste had emerged within Hinduism, and Buddhism and Jainism had arisen, proclaiming social orders unlinked to heredity. Early political consolidations gave rise to the loose-knit Maurya and Gupta Empires based in the Ganges Basin. Their collective era was suffused with wide-ranging creativity, but also marked by the declining status of women, and the incorporation of untouchability into an organised system of belief. In South India, the Middle kingdoms exported Dravidian-languages scripts and religious cultures to the kingdoms of Southeast Asia.\")\r\n",
        "\r\n",
        "def to_nltk_tree(node):\r\n",
        "    if node.n_lefts + node.n_rights > 0:\r\n",
        "        return Tree(node.orth_, [to_nltk_tree(child) for child in node.children])\r\n",
        "    else:\r\n",
        "        return node.orth_\r\n",
        "\r\n",
        "\r\n",
        "[to_nltk_tree(sent.root).pretty_print() for sent in doc.sents]"
      ],
      "execution_count": 2,
      "outputs": [
        {
          "output_type": "stream",
          "text": [
            "                            arrived                             \n",
            "  _____________________________|_________________                \n",
            " |    |             |                 |         ago             \n",
            " |    |             |                 |          |               \n",
            " |    |             on                |        years            \n",
            " |    |             |                 |      ____|_____          \n",
            " |  humans     subcontinent          from   |        55,000     \n",
            " |    |      _______|__________       |     |     _____|_____    \n",
            " .  Modern the               Indian Africa  no later        than\n",
            "\n",
            "                                            made                                                                                                           \n",
            "  ___________________________________________|_________________________________________________________________________________                             \n",
            " |   |   |   |                 occupation                                                        |                             |                           \n",
            " |   |   |   |     ________________|_________________________________________                    |                             |                            \n",
            " |   |   |   |    |    |    |                in                              |                   |                           second                        \n",
            " |   |   |   |    |    |    |       _________|______                         |                   |                  ___________|______________              \n",
            " |   |   |   |    |    |    |      |              forms                      as               diverse              |                          in           \n",
            " |   |   |   |    |    |    |      |          ______|_______                 |            _______|______           |                          |             \n",
            " |   |   |   |    |    |    |      |         |              of           gatherers       |            region       to                     diversity        \n",
            " |   |   |   |    |    |    |      |         |              |        ________|______     |              |      ____|____               _______|________     \n",
            " ,  has  ,   .  Their long  ,  initially  varying       isolation hunter            -  highly          the   only     Africa        human           genetic\n",
            "\n",
            "                                                   emerged                                                           \n",
            "  ____________________________________________________|___________________________                                    \n",
            " |   |     |         |              in                       |                 evolving                              \n",
            " |   |     |         |              |                        |        ____________|__________                         \n",
            " |   |     |         |           margins                     |       |                      into                     \n",
            " |   |     |         |         _____|__________              |       |                       |                        \n",
            " |   |     |         |        |     |          of            |       |                  Civilisation                 \n",
            " |   |     |         |        |     |          |             |       |       ________________|_________               \n",
            " |   |     |         on       |     |        basin          ago      |      |     |                    of            \n",
            " |   |     |         |        |     |          |             |       |      |     |                    |              \n",
            " |   |    life  subcontinent  |     |        river         years     |      |   Valley                BCE            \n",
            " |   |     |         |        |     |      ____|______       |       |      |     |           _________|_______       \n",
            " ,   .  Settled     the      the western the        Indus  9,000 gradually the  Indus       the      third millennium\n",
            "\n",
            "                                                       diffused                                                                                \n",
            "  ________________________________________________________|___________________________________________________________                          \n",
            " |   |   |        |                      form                                  |       |                          unfolding                    \n",
            " |   |   |        |        _______________|______                              |       |       _______________________|_____________            \n",
            " |   |   |        |       |     |                of                            |       |      |   |         as                      |          \n",
            " |   |   |        |       |     |                |                             |       |      |   |         |                       |           \n",
            " |   |   |        |       |     |             Sanskrit                         |       |      |   |      language               recording      \n",
            " |   |   |        |       |     |      __________|________                     |       |      |   |    _____|_________              |           \n",
            " |   |   |        By      |     |     |   |            language                |      from    |   |   |               of         dawning       \n",
            " |   |   |        |       |     |     |   |       ________|________            |       |      |   |   |               |       ______|_______    \n",
            " |   |   |       BCE      |     |     |   |      |              European      into northwest  |   |   |            Rigveda   |      of      in \n",
            " |   |   |    ____|___    |     |     |   |      |         ________|______     |       |      |   |   |               |      |      |       |   \n",
            "had  ,   .  1200      ,   an archaic  ,   ,      an      Indo             -  India    the     ,  and the             the    the  Hinduism India\n",
            "\n",
            "             supplanted                                   \n",
            "  _______________|___________________                      \n",
            " |    |          |                   in                   \n",
            " |    |          |                   |                     \n",
            " |    |      languages            regions                 \n",
            " |    |    ______|________      _____|_______              \n",
            " |    |   |      |        of   |          northern        \n",
            " |    |   |      |        |    |      _______|________     \n",
            "were  .  The Dravidian  India the   and            western\n",
            "\n",
            "                                           emerged                                                                         \n",
            "  ____________________________________________|___________________________                                                  \n",
            " |   |   |       |                |                   |                 arisen                                             \n",
            " |   |   |       |                |                   |       ____________|_________________________________                \n",
            " |   |   |       |                |                   |      |   |   |            |                    proclaiming         \n",
            " |   |   |       |                |                   |      |   |   |            |                         |               \n",
            " |   |   |       By         stratification            |      |   |   |            |                      unlinked          \n",
            " |   |   |       |        ________|___________        |      |   |   |            |                _________|_________      \n",
            " |   |   |      BCE      |        |           by    within   |   |   |         Buddhism         orders                to   \n",
            " |   |   |    ___|___    |        |           |       |      |   |   |     _______|________       |                   |     \n",
            "had  ,  and 400      ,  and   exclusion     caste  Hinduism had  ,   .   and            Jainism social             heredity\n",
            "\n",
            "                                             gave                                        \n",
            "  ____________________________________________|_________                                  \n",
            " |    |              |                                  to                               \n",
            " |    |              |                                  |                                 \n",
            " |    |              |                                Maurya                             \n",
            " |    |              |                    ______________|______________________           \n",
            " |    |              |                   |    |    |    |     |     |        based       \n",
            " |    |              |                   |    |    |    |     |     |          |          \n",
            " |    |              |                   |    |    |    |     |     |          in        \n",
            " |    |              |                   |    |    |    |     |     |          |          \n",
            " |    |        consolidations            |    |    |    |     |  Empires     Basin       \n",
            " |    |     _________|____________       |    |    |    |     |     |      ____|_____     \n",
            "rise  .  Early                political the loose  -   knit  and  Gupta  the       Ganges\n",
            "\n",
            "                                                          suffused                                                                             \n",
            "  ___________________________________________________________|_________________________________________________________                         \n",
            " |   |   |         |                      |           |                marked                                    incorporation                 \n",
            " |   |   |         |                      |           |       ___________|________              _______________________|___________             \n",
            " |   |   |         |                     with         |      |      |             by           |        |                         into         \n",
            " |   |   |         |                      |           |      |      |             |            |        |                          |            \n",
            " |   |   |         |                  creativity      |      |      |           status         |        |                        system        \n",
            " |   |   |         |                      |           |      |      |     ________|_______     |        |               ___________|_______     \n",
            " |   |   |        era                  ranging       but     |      |    |        |       of   |        of             |           |       of  \n",
            " |   |   |     ____|______         _______|_______    |      |      |    |        |       |    |        |              |           |       |    \n",
            "was  ,   .  Their     collective wide             -  also    ,     and  the   declining women the untouchability       an      organised belief\n",
            "\n",
            "                                  exported                                                         \n",
            "  ___________________________________|______________________________________________                \n",
            " |   |    |          |                         |                                    to             \n",
            " |   |    |          |                         |                                    |               \n",
            " |   |    |          |                         |                                 kingdoms          \n",
            " |   |    |          |                         |                               _____|_________      \n",
            " |   |    In         |                      scripts                           |               of   \n",
            " |   |    |          |                _________|_______________________       |               |     \n",
            " |   |  India     kingdoms           |               languages      cultures  |              Asia  \n",
            " |   |    |     _____|_______        |          _________|______       |      |               |     \n",
            " ,   .  South the          Middle   and    Dravidian            -  religious the          Southeast\n",
            "\n"
          ],
          "name": "stdout"
        },
        {
          "output_type": "execute_result",
          "data": {
            "text/plain": [
              "[None, None, None, None, None, None, None, None, None]"
            ]
          },
          "metadata": {
            "tags": []
          },
          "execution_count": 2
        }
      ]
    },
    {
      "cell_type": "code",
      "metadata": {
        "id": "9ngc48Q7Nfc8"
      },
      "source": [
        ""
      ],
      "execution_count": null,
      "outputs": []
    }
  ]
}