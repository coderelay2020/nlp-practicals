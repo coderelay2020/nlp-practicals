{
  "nbformat": 4,
  "nbformat_minor": 0,
  "metadata": {
    "colab": {
      "name": "Practical 8-Chunking",
      "provenance": []
    },
    "kernelspec": {
      "name": "python3",
      "display_name": "Python 3"
    }
  },
  "cells": [
    {
      "cell_type": "code",
      "metadata": {
        "colab": {
          "base_uri": "https://localhost:8080/"
        },
        "id": "Jz_ZPUPPI4wG",
        "outputId": "c4c44e85-9904-447b-f786-3d05a1a80111"
      },
      "source": [
        "import nltk\r\n",
        "sentence = [(\"the\", \"DT\"), (\"little\", \"JJ\"), (\"yellow\", \"JJ\"), (\"dog\", \"NN\"), (\"barked\", \"VBD\"), (\"at\", \"IN\"),  (\"the\", \"DT\"), (\"cat\", \"NN\")]\r\n",
        "\r\n",
        "grammar = \"NP: {<DT>?<JJ>*<NN>}\" \r\n",
        "\r\n",
        "cp = nltk.RegexpParser(grammar) \r\n",
        "result = cp.parse(sentence) \r\n",
        "print(result)\r\n",
        "# cp.parse(sentence)\r\n",
        "# result.draw() "
      ],
      "execution_count": 6,
      "outputs": [
        {
          "output_type": "stream",
          "text": [
            "(S\n",
            "  (NP the/DT little/JJ yellow/JJ dog/NN)\n",
            "  barked/VBD\n",
            "  at/IN\n",
            "  (NP the/DT cat/NN))\n"
          ],
          "name": "stdout"
        }
      ]
    },
    {
      "cell_type": "code",
      "metadata": {
        "id": "capgo9fYJFxm"
      },
      "source": [
        ""
      ],
      "execution_count": null,
      "outputs": []
    }
  ]
}